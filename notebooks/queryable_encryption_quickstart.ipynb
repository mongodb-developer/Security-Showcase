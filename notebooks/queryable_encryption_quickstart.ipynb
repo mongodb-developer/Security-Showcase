{
  "nbformat": 4,
  "nbformat_minor": 0,
  "metadata": {
    "colab": {
      "provenance": []
    },
    "kernelspec": {
      "name": "python3",
      "display_name": "Python 3"
    },
    "language_info": {
      "name": "python"
    }
  },
  "cells": [
    {
      "cell_type": "markdown",
      "source": [
        "# MongoDB Queryable Encryption with Atlas - Developer Education\n",
        "\n",
        "This notebook is based on the available  [Queryable Encryption quick start](https://www.mongodb.com/docs/manual/core/queryable-encryption/quick-start/).\n",
        "\n",
        "# Installation of prerequisites"
      ],
      "metadata": {
        "id": "IWD-uW5kF4pO"
      }
    },
    {
      "cell_type": "code",
      "execution_count": 1,
      "metadata": {
        "colab": {
          "base_uri": "https://localhost:8080/"
        },
        "id": "VaTITJNyFoqI",
        "outputId": "5a883e86-cf8a-4679-ccd8-bb0402a18313"
      },
      "outputs": [
        {
          "output_type": "stream",
          "name": "stdout",
          "text": [
            "Collecting pymongo[encryption]\n",
            "  Downloading pymongo-4.8.0-cp310-cp310-manylinux_2_17_x86_64.manylinux2014_x86_64.whl.metadata (22 kB)\n",
            "Collecting dnspython<3.0.0,>=1.16.0 (from pymongo[encryption])\n",
            "  Downloading dnspython-2.6.1-py3-none-any.whl.metadata (5.8 kB)\n",
            "Collecting pymongo-auth-aws<2.0.0,>=1.1.0 (from pymongo[encryption])\n",
            "  Downloading pymongo_auth_aws-1.2.0-py3-none-any.whl.metadata (17 kB)\n",
            "Collecting pymongocrypt<2.0.0,>=1.6.0 (from pymongo[encryption])\n",
            "  Downloading pymongocrypt-1.10.1-py3-none-manylinux_2_17_x86_64.manylinux2014_x86_64.whl.metadata (23 kB)\n",
            "Collecting boto3 (from pymongo-auth-aws<2.0.0,>=1.1.0->pymongo[encryption])\n",
            "  Downloading boto3-1.34.151-py3-none-any.whl.metadata (6.6 kB)\n",
            "Collecting botocore (from pymongo-auth-aws<2.0.0,>=1.1.0->pymongo[encryption])\n",
            "  Downloading botocore-1.34.151-py3-none-any.whl.metadata (5.7 kB)\n",
            "Requirement already satisfied: cffi<2,>=1.12.0 in /usr/local/lib/python3.10/dist-packages (from pymongocrypt<2.0.0,>=1.6.0->pymongo[encryption]) (1.16.0)\n",
            "Requirement already satisfied: cryptography>=40 in /usr/local/lib/python3.10/dist-packages (from pymongocrypt<2.0.0,>=1.6.0->pymongo[encryption]) (42.0.8)\n",
            "Collecting httpx>=0.25.0 (from pymongocrypt<2.0.0,>=1.6.0->pymongo[encryption])\n",
            "  Downloading httpx-0.27.0-py3-none-any.whl.metadata (7.2 kB)\n",
            "Requirement already satisfied: packaging>=21.0 in /usr/local/lib/python3.10/dist-packages (from pymongocrypt<2.0.0,>=1.6.0->pymongo[encryption]) (24.1)\n",
            "Requirement already satisfied: pycparser in /usr/local/lib/python3.10/dist-packages (from cffi<2,>=1.12.0->pymongocrypt<2.0.0,>=1.6.0->pymongo[encryption]) (2.22)\n",
            "Requirement already satisfied: anyio in /usr/local/lib/python3.10/dist-packages (from httpx>=0.25.0->pymongocrypt<2.0.0,>=1.6.0->pymongo[encryption]) (3.7.1)\n",
            "Requirement already satisfied: certifi in /usr/local/lib/python3.10/dist-packages (from httpx>=0.25.0->pymongocrypt<2.0.0,>=1.6.0->pymongo[encryption]) (2024.7.4)\n",
            "Collecting httpcore==1.* (from httpx>=0.25.0->pymongocrypt<2.0.0,>=1.6.0->pymongo[encryption])\n",
            "  Downloading httpcore-1.0.5-py3-none-any.whl.metadata (20 kB)\n",
            "Requirement already satisfied: idna in /usr/local/lib/python3.10/dist-packages (from httpx>=0.25.0->pymongocrypt<2.0.0,>=1.6.0->pymongo[encryption]) (3.7)\n",
            "Requirement already satisfied: sniffio in /usr/local/lib/python3.10/dist-packages (from httpx>=0.25.0->pymongocrypt<2.0.0,>=1.6.0->pymongo[encryption]) (1.3.1)\n",
            "Collecting h11<0.15,>=0.13 (from httpcore==1.*->httpx>=0.25.0->pymongocrypt<2.0.0,>=1.6.0->pymongo[encryption])\n",
            "  Downloading h11-0.14.0-py3-none-any.whl.metadata (8.2 kB)\n",
            "Collecting jmespath<2.0.0,>=0.7.1 (from boto3->pymongo-auth-aws<2.0.0,>=1.1.0->pymongo[encryption])\n",
            "  Downloading jmespath-1.0.1-py3-none-any.whl.metadata (7.6 kB)\n",
            "Collecting s3transfer<0.11.0,>=0.10.0 (from boto3->pymongo-auth-aws<2.0.0,>=1.1.0->pymongo[encryption])\n",
            "  Downloading s3transfer-0.10.2-py3-none-any.whl.metadata (1.7 kB)\n",
            "Requirement already satisfied: python-dateutil<3.0.0,>=2.1 in /usr/local/lib/python3.10/dist-packages (from botocore->pymongo-auth-aws<2.0.0,>=1.1.0->pymongo[encryption]) (2.8.2)\n",
            "Requirement already satisfied: urllib3!=2.2.0,<3,>=1.25.4 in /usr/local/lib/python3.10/dist-packages (from botocore->pymongo-auth-aws<2.0.0,>=1.1.0->pymongo[encryption]) (2.0.7)\n",
            "Requirement already satisfied: six>=1.5 in /usr/local/lib/python3.10/dist-packages (from python-dateutil<3.0.0,>=2.1->botocore->pymongo-auth-aws<2.0.0,>=1.1.0->pymongo[encryption]) (1.16.0)\n",
            "Requirement already satisfied: exceptiongroup in /usr/local/lib/python3.10/dist-packages (from anyio->httpx>=0.25.0->pymongocrypt<2.0.0,>=1.6.0->pymongo[encryption]) (1.2.2)\n",
            "Downloading dnspython-2.6.1-py3-none-any.whl (307 kB)\n",
            "\u001b[2K   \u001b[90m━━━━━━━━━━━━━━━━━━━━━━━━━━━━━━━━━━━━━━━━\u001b[0m \u001b[32m307.7/307.7 kB\u001b[0m \u001b[31m5.4 MB/s\u001b[0m eta \u001b[36m0:00:00\u001b[0m\n",
            "\u001b[?25hDownloading pymongo_auth_aws-1.2.0-py3-none-any.whl (15 kB)\n",
            "Downloading pymongocrypt-1.10.1-py3-none-manylinux_2_17_x86_64.manylinux2014_x86_64.whl (5.5 MB)\n",
            "\u001b[2K   \u001b[90m━━━━━━━━━━━━━━━━━━━━━━━━━━━━━━━━━━━━━━━━\u001b[0m \u001b[32m5.5/5.5 MB\u001b[0m \u001b[31m42.5 MB/s\u001b[0m eta \u001b[36m0:00:00\u001b[0m\n",
            "\u001b[?25hDownloading pymongo-4.8.0-cp310-cp310-manylinux_2_17_x86_64.manylinux2014_x86_64.whl (1.2 MB)\n",
            "\u001b[2K   \u001b[90m━━━━━━━━━━━━━━━━━━━━━━━━━━━━━━━━━━━━━━━━\u001b[0m \u001b[32m1.2/1.2 MB\u001b[0m \u001b[31m23.1 MB/s\u001b[0m eta \u001b[36m0:00:00\u001b[0m\n",
            "\u001b[?25hDownloading httpx-0.27.0-py3-none-any.whl (75 kB)\n",
            "\u001b[2K   \u001b[90m━━━━━━━━━━━━━━━━━━━━━━━━━━━━━━━━━━━━━━━━\u001b[0m \u001b[32m75.6/75.6 kB\u001b[0m \u001b[31m3.6 MB/s\u001b[0m eta \u001b[36m0:00:00\u001b[0m\n",
            "\u001b[?25hDownloading httpcore-1.0.5-py3-none-any.whl (77 kB)\n",
            "\u001b[2K   \u001b[90m━━━━━━━━━━━━━━━━━━━━━━━━━━━━━━━━━━━━━━━━\u001b[0m \u001b[32m77.9/77.9 kB\u001b[0m \u001b[31m5.6 MB/s\u001b[0m eta \u001b[36m0:00:00\u001b[0m\n",
            "\u001b[?25hDownloading boto3-1.34.151-py3-none-any.whl (139 kB)\n",
            "\u001b[2K   \u001b[90m━━━━━━━━━━━━━━━━━━━━━━━━━━━━━━━━━━━━━━━━\u001b[0m \u001b[32m139.2/139.2 kB\u001b[0m \u001b[31m7.5 MB/s\u001b[0m eta \u001b[36m0:00:00\u001b[0m\n",
            "\u001b[?25hDownloading botocore-1.34.151-py3-none-any.whl (12.4 MB)\n",
            "\u001b[2K   \u001b[90m━━━━━━━━━━━━━━━━━━━━━━━━━━━━━━━━━━━━━━━━\u001b[0m \u001b[32m12.4/12.4 MB\u001b[0m \u001b[31m53.7 MB/s\u001b[0m eta \u001b[36m0:00:00\u001b[0m\n",
            "\u001b[?25hDownloading jmespath-1.0.1-py3-none-any.whl (20 kB)\n",
            "Downloading s3transfer-0.10.2-py3-none-any.whl (82 kB)\n",
            "\u001b[2K   \u001b[90m━━━━━━━━━━━━━━━━━━━━━━━━━━━━━━━━━━━━━━━━\u001b[0m \u001b[32m82.7/82.7 kB\u001b[0m \u001b[31m5.9 MB/s\u001b[0m eta \u001b[36m0:00:00\u001b[0m\n",
            "\u001b[?25hDownloading h11-0.14.0-py3-none-any.whl (58 kB)\n",
            "\u001b[2K   \u001b[90m━━━━━━━━━━━━━━━━━━━━━━━━━━━━━━━━━━━━━━━━\u001b[0m \u001b[32m58.3/58.3 kB\u001b[0m \u001b[31m4.1 MB/s\u001b[0m eta \u001b[36m0:00:00\u001b[0m\n",
            "\u001b[?25hInstalling collected packages: jmespath, h11, dnspython, pymongo, httpcore, botocore, s3transfer, httpx, pymongocrypt, boto3, pymongo-auth-aws\n",
            "Successfully installed boto3-1.34.151 botocore-1.34.151 dnspython-2.6.1 h11-0.14.0 httpcore-1.0.5 httpx-0.27.0 jmespath-1.0.1 pymongo-4.8.0 pymongo-auth-aws-1.2.0 pymongocrypt-1.10.1 s3transfer-0.10.2\n",
            "Requirement already satisfied: pymongo in /usr/local/lib/python3.10/dist-packages (4.8.0)\n",
            "Requirement already satisfied: dnspython<3.0.0,>=1.16.0 in /usr/local/lib/python3.10/dist-packages (from pymongo) (2.6.1)\n",
            "Requirement already satisfied: requests in /usr/local/lib/python3.10/dist-packages (2.31.0)\n",
            "Requirement already satisfied: charset-normalizer<4,>=2 in /usr/local/lib/python3.10/dist-packages (from requests) (3.3.2)\n",
            "Requirement already satisfied: idna<4,>=2.5 in /usr/local/lib/python3.10/dist-packages (from requests) (3.7)\n",
            "Requirement already satisfied: urllib3<3,>=1.21.1 in /usr/local/lib/python3.10/dist-packages (from requests) (2.0.7)\n",
            "Requirement already satisfied: certifi>=2017.4.17 in /usr/local/lib/python3.10/dist-packages (from requests) (2024.7.4)\n"
          ]
        }
      ],
      "source": [
        "!pip install pymongo[encryption]\n",
        "!pip install pymongo\n",
        "!pip install requests"
      ]
    },
    {
      "cell_type": "markdown",
      "source": [],
      "metadata": {
        "id": "y2ZeghQhF16A"
      }
    },
    {
      "cell_type": "code",
      "source": [
        "\n",
        "import os\n",
        "from pymongo import MongoClient\n",
        "from pymongo.encryption import Algorithm, ClientEncryption, QueryType\n",
        "from pymongo.encryption_options import AutoEncryptionOpts\n",
        "from bson.codec_options import CodecOptions\n",
        "from bson import json_util\n",
        "import json\n",
        "import requests\n",
        "import platform\n",
        "import tempfile"
      ],
      "metadata": {
        "id": "Qmddd06TF-0y"
      },
      "execution_count": 2,
      "outputs": []
    },
    {
      "cell_type": "markdown",
      "source": [
        "Function to download and set up crypt_shared library"
      ],
      "metadata": {
        "id": "DEHejcLFF17p"
      }
    },
    {
      "cell_type": "code",
      "source": [
        "def setup_crypt_shared():\n",
        "    system = platform.system().lower()\n",
        "    if system == \"linux\":\n",
        "        url = \"https://downloads.mongodb.com/linux/mongo_crypt_shared_v1-linux-x86_64-enterprise-ubuntu2004-6.0.6.tgz\"\n",
        "        filename = \"mongo_crypt_shared_v1-linux-x86_64-enterprise-ubuntu2004-6.0.6.tgz\"\n",
        "    elif system == \"darwin\":\n",
        "        url = \"https://downloads.mongodb.com/osx/mongo_crypt_shared_v1-macos-x86_64-enterprise-6.0.6.tgz\"\n",
        "        filename = \"mongo_crypt_shared_v1-macos-x86_64-enterprise-6.0.6.tgz\"\n",
        "    elif system == \"windows\":\n",
        "        url = \"https://downloads.mongodb.com/windows/mongo_crypt_shared_v1-windows-x86_64-enterprise-6.0.6.zip\"\n",
        "        filename = \"mongo_crypt_shared_v1-windows-x86_64-enterprise-6.0.6.zip\"\n",
        "    else:\n",
        "        raise OSError(\"Unsupported operating system\")\n",
        "\n",
        "    response = requests.get(url)\n",
        "    response.raise_for_status()\n",
        "\n",
        "    with tempfile.NamedTemporaryFile(delete=False, suffix=\".tgz\" if system != \"windows\" else \".zip\") as tmp_file:\n",
        "        tmp_file.write(response.content)\n",
        "        tmp_file_path = tmp_file.name\n",
        "\n",
        "    extract_dir = tempfile.mkdtemp()\n",
        "\n",
        "    if system != \"windows\":\n",
        "        os.system(f\"tar -xzf {tmp_file_path} -C {extract_dir}\")\n",
        "        lib_path = os.path.join(extract_dir, \"lib\", \"mongo_crypt_v1.so\")\n",
        "    else:\n",
        "        os.system(f\"powershell Expand-Archive -Path {tmp_file_path} -DestinationPath {extract_dir}\")\n",
        "        lib_path = os.path.join(extract_dir, \"bin\", \"mongo_crypt_v1.dll\")\n",
        "\n",
        "    return lib_path"
      ],
      "metadata": {
        "id": "H-UUWErxGLwa"
      },
      "execution_count": 3,
      "outputs": []
    },
    {
      "cell_type": "markdown",
      "source": [
        "# Set up crypt_shared library"
      ],
      "metadata": {
        "id": "3KrMrvscGtzf"
      }
    },
    {
      "cell_type": "code",
      "source": [
        "crypt_shared_lib_path = setup_crypt_shared()\n",
        "print(f\"Crypt shared library path: {crypt_shared_lib_path}\")\n"
      ],
      "metadata": {
        "colab": {
          "base_uri": "https://localhost:8080/"
        },
        "id": "RAPRybh7Gvy7",
        "outputId": "25425171-efd1-4104-fbea-72499289abfe"
      },
      "execution_count": 4,
      "outputs": [
        {
          "output_type": "stream",
          "name": "stdout",
          "text": [
            "Crypt shared library path: /tmp/tmpsyx58qew/lib/mongo_crypt_v1.so\n"
          ]
        }
      ]
    },
    {
      "cell_type": "markdown",
      "source": [
        " 1. Connect to your Atlas cluster"
      ],
      "metadata": {
        "id": "1c5d00evG51I"
      }
    },
    {
      "cell_type": "code",
      "source": [
        "import getpass\n",
        "MONGODB_ATLAS_URI = getpass.getpass(\"Enter your MongoDB Atlas URI:\")\n",
        "\n",
        "key_vault_client = MongoClient(MONGODB_ATLAS_URI, appname=\"deverel.content.python\")"
      ],
      "metadata": {
        "colab": {
          "base_uri": "https://localhost:8080/"
        },
        "id": "5sZsGXF6G6f2",
        "outputId": "9d8f5e8c-6d92-419e-8911-d5725aec227a"
      },
      "execution_count": 49,
      "outputs": [
        {
          "name": "stdout",
          "output_type": "stream",
          "text": [
            "Enter your MongoDB Atlas URI:··········\n"
          ]
        }
      ]
    },
    {
      "cell_type": "markdown",
      "source": [
        "2. Set up encryption key and providers"
      ],
      "metadata": {
        "id": "LVfEBiDuHjmK"
      }
    },
    {
      "cell_type": "code",
      "source": [
        "local_master_key = os.urandom(96)\n",
        "kms_providers = {\"local\": {\"key\": local_master_key}}\n",
        "key_vault_namespace = \"encryption.__keyVault\"\n"
      ],
      "metadata": {
        "id": "-fY3ouQAHlTN"
      },
      "execution_count": 41,
      "outputs": []
    },
    {
      "cell_type": "code",
      "source": [
        "kms_provider_name=\"local\"\n",
        "key_vault_database_name = \"encryption\"\n",
        "key_vault_collection_name = \"__keyVault\"\n",
        "key_vault_namespace = f\"{key_vault_database_name}.{key_vault_collection_name}\"\n",
        "encrypted_database_name = \"medicalRecords\"\n",
        "encrypted_collection_name = \"patients\""
      ],
      "metadata": {
        "id": "GdN0aQugZT5y"
      },
      "execution_count": 42,
      "outputs": []
    },
    {
      "cell_type": "markdown",
      "source": [
        "3. Create a ClientEncryption object"
      ],
      "metadata": {
        "id": "1fL4CSAyHrWt"
      }
    },
    {
      "cell_type": "code",
      "source": [
        "auto_encryption_options = AutoEncryptionOpts(\n",
        "    kms_providers,\n",
        "    key_vault_namespace,\n",
        "    crypt_shared_lib_path=crypt_shared_lib_path\n",
        ")"
      ],
      "metadata": {
        "id": "EVsxscyOHsFm"
      },
      "execution_count": 43,
      "outputs": []
    },
    {
      "cell_type": "markdown",
      "source": [
        " 4. Set up the key vault"
      ],
      "metadata": {
        "id": "-FDRnyjCHw2j"
      }
    },
    {
      "cell_type": "code",
      "source": [
        "encrypted_client = MongoClient(\n",
        "    MONGODB_ATLAS_URI, auto_encryption_opts=auto_encryption_options)\n"
      ],
      "metadata": {
        "id": "LdA-OUbLHv2T"
      },
      "execution_count": 50,
      "outputs": []
    },
    {
      "cell_type": "markdown",
      "source": [
        "6. Define the encrypted fields map"
      ],
      "metadata": {
        "id": "5xJ9bg2SH9AJ"
      }
    },
    {
      "cell_type": "code",
      "source": [
        "encrypted_fields_map = {\n",
        "    \"fields\": [\n",
        "        {\n",
        "            \"path\": \"patientRecord.ssn\",\n",
        "            \"bsonType\": \"string\",\n",
        "            \"queries\": [{\"queryType\": \"equality\"}] # potentially 'range'\n",
        "        },\n",
        "        {\n",
        "            \"path\": \"patientRecord.billing\",\n",
        "            \"bsonType\": \"object\",\n",
        "        }\n",
        "    ]\n",
        "}"
      ],
      "metadata": {
        "id": "3oTfRARHH25R"
      },
      "execution_count": 54,
      "outputs": []
    },
    {
      "cell_type": "markdown",
      "source": [
        "7. Create an encrypted client"
      ],
      "metadata": {
        "id": "gmbCUFo4IAsv"
      }
    },
    {
      "cell_type": "code",
      "source": [
        "client_encryption = ClientEncryption(\n",
        "    kms_providers=kms_providers,\n",
        "    key_vault_namespace=key_vault_namespace,\n",
        "    key_vault_client=encrypted_client,\n",
        "    codec_options=CodecOptions()\n",
        ")\n",
        "\n",
        "\n"
      ],
      "metadata": {
        "id": "Sy8KZOD7H-W-"
      },
      "execution_count": 52,
      "outputs": []
    },
    {
      "cell_type": "markdown",
      "source": [
        " 8. Set up and use the encrypted collection"
      ],
      "metadata": {
        "id": "Z_Gw2kw-IM3y"
      }
    },
    {
      "cell_type": "code",
      "source": [
        "client_encryption.create_encrypted_collection(\n",
        "    encrypted_client[encrypted_database_name],\n",
        "    encrypted_collection_name,\n",
        "    encrypted_fields_map,\n",
        "    kms_provider_name,\n",
        "    {},\n",
        ")"
      ],
      "metadata": {
        "colab": {
          "base_uri": "https://localhost:8080/"
        },
        "id": "1P80BuvUWVY2",
        "outputId": "1745e8f3-b01f-4a4c-e8bc-62e079ffb6ed"
      },
      "execution_count": 55,
      "outputs": [
        {
          "output_type": "execute_result",
          "data": {
            "text/plain": [
              "(Collection(Database(MongoClient(host=['serverless1-lb.uvwhr.mongodb.net:27017'], document_class=dict, tz_aware=False, connect=True, authsource='admin', loadbalanced=True, tls=True, auto_encryption_opts=<pymongo.encryption_options.AutoEncryptionOpts object at 0x7f57846ba980>), 'medicalRecords'), 'patients'),\n",
              " {'fields': [{'path': 'patientRecord.ssn',\n",
              "    'bsonType': 'string',\n",
              "    'queries': [{'queryType': 'equality'}],\n",
              "    'keyId': Binary(b'L\\x04.\\x94\\x91\\xaaL\\x10\\x8fb\\xe1\\x91+\\xaeg\\x8b', 4)},\n",
              "   {'path': 'patientRecord.billing',\n",
              "    'bsonType': 'object',\n",
              "    'keyId': Binary(b'YV\\x0cP\\x1f\\xfeF \\x96\".V:\\xec\\x82\\xf5', 4)}]})"
            ]
          },
          "metadata": {},
          "execution_count": 55
        }
      ]
    },
    {
      "cell_type": "markdown",
      "source": [
        "9. Insert an encrypted document"
      ],
      "metadata": {
        "id": "YkQWvDzVI1kP"
      }
    },
    {
      "cell_type": "code",
      "source": [
        "patient_document = {\n",
        "    \"patientName\": \"Jon Doe\",\n",
        "    \"patientId\": 12345678,\n",
        "    \"patientRecord\": {\n",
        "        \"ssn\": \"987-65-4320\",\n",
        "        \"billing\": {\n",
        "            \"type\": \"Visa\",\n",
        "            \"number\": \"4111111111111111\",\n",
        "        },\n",
        "    },\n",
        "}\n",
        "encrypted_collection = encrypted_client[encrypted_database_name][encrypted_collection_name]\n",
        "result = encrypted_collection.insert_one(patient_document)\n",
        "print(f\"Inserted document ID: {result.inserted_id}\")"
      ],
      "metadata": {
        "colab": {
          "base_uri": "https://localhost:8080/"
        },
        "id": "HTVQHCrVI9WB",
        "outputId": "ea8f08a6-18e6-4eed-b852-1fad89ad00fb"
      },
      "execution_count": 56,
      "outputs": [
        {
          "output_type": "stream",
          "name": "stdout",
          "text": [
            "Inserted document ID: 66aa6a8fc652e5247e1cbc7f\n"
          ]
        }
      ]
    },
    {
      "cell_type": "markdown",
      "source": [
        "10. Query the encrypted collection"
      ],
      "metadata": {
        "id": "pKqv2_jfJEBQ"
      }
    },
    {
      "cell_type": "code",
      "source": [
        "find_result = encrypted_collection.find_one({\n",
        "    \"patientRecord.ssn\": \"987-65-4320\"\n",
        "})\n",
        "print(find_result)\n"
      ],
      "metadata": {
        "colab": {
          "base_uri": "https://localhost:8080/"
        },
        "id": "YGaDxbCXI3jQ",
        "outputId": "7f1520e3-074c-4c5b-ef78-30b4a77a39c5"
      },
      "execution_count": 57,
      "outputs": [
        {
          "output_type": "stream",
          "name": "stdout",
          "text": [
            "{'_id': ObjectId('66aa6a8fc652e5247e1cbc7f'), 'patientName': 'Jon Doe', 'patientId': 12345678, 'patientRecord': {'ssn': '987-65-4320', 'billing': {'type': 'Visa', 'number': '4111111111111111'}}, '__safeContent__': [b'\\xd7\\xb5&\\xd7I\\x9eF;g\\xb8\\x9dEmGkbd}\\x8c\\xf7w\\x87\\xb1Y(\\xa3b\\xbf\\x1e\\x9fW\\x01']}\n"
          ]
        }
      ]
    },
    {
      "cell_type": "code",
      "source": [
        "print(\"\\nQuerying without encryption:\")\n",
        "\n",
        "reg_mongoclient = MongoClient(MONGODB_ATLAS_URI)\n",
        "\n",
        "find_result = reg_mongoclient[encrypted_database_name][encrypted_collection_name].find_one({\n",
        "    \"patientRecord.ssn\": \"987-65-4320\"\n",
        "})\n",
        "print(find_result)\n",
        "\n",
        "all_docs = reg_mongoclient[encrypted_database_name][encrypted_collection_name].find()\n",
        "print(\"\\nAll documents in the collection:\")\n",
        "for doc in all_docs:\n",
        "    print(doc)"
      ],
      "metadata": {
        "colab": {
          "base_uri": "https://localhost:8080/"
        },
        "id": "ka1s3bp3JGsc",
        "outputId": "cf998c4c-752f-41f9-ae1f-5b8a73622a11"
      },
      "execution_count": 58,
      "outputs": [
        {
          "output_type": "stream",
          "name": "stdout",
          "text": [
            "\n",
            "Querying without encryption:\n",
            "None\n",
            "\n",
            "All documents in the collection:\n",
            "{'_id': ObjectId('66aa6a8fc652e5247e1cbc7f'), 'patientName': 'Jon Doe', 'patientId': 12345678, 'patientRecord': {'ssn': Binary(b'\\x0eL\\x04.\\x94\\x91\\xaaL\\x10\\x8fb\\xe1\\x91+\\xaeg\\x8b\\x02k13\\xecIk\\x90\\x81\\x15\\xbf\\x08i\\xa4z\\x10\\xfc\\x11O!\\xc9p\\xce\\x12\\x0c\\xd3\\xa9\\xb1(\\xed\\x90\\xb2\\x91q\\xc2\\xab\\xc6\\xb4\\x827C\\xf0\\xfd\\xc4\\xf9\\x88W<11_\\xa3\\x98\\x18\\x1b\\xba)\\xb6\\x12%)4\\n|\\x1f\\xea\\x00\\x12(\\x8f@\\x1a0\\xd1`\\xfa\\x82/A2\\xdf9\\xe3\\xb3\\x8d$\\t\\xba|\\x9fkDfsf\\xa5\\x08\\xbb\\x1en%\\x11\\xb1\\xd0s\\x87k\\x92+j\\x85\\xd6\\xdf;K\\x88\\x1e\\xf0S>Z_G@\\x7fU+\\xb6\\x93\\x18<#bmJ\\xd6\\xba\\x86F}r\\xacM%\\xee\\xd7\\xb5&\\xd7I\\x9eF;g\\xb8\\x9dEmGkbd}\\x8c\\xf7w\\x87\\xb1Y(\\xa3b\\xbf\\x1e\\x9fW\\x01\\xba\\x9c#G\\x9f\\xcd\\x82\\xf2\\x8d\\x1b`\\xf6\\x06\\x17pi\\x0b\\xc8\\xde\\x90\\xc3}Q\\x19\\xcd\\r<=a\\x15\\x03\\xce', 6), 'billing': Binary(b'\\x10YV\\x0cP\\x1f\\xfeF \\x96\".V:\\xec\\x82\\xf5\\x03<\\x12\\xcdT\\x10\\xad}\\xbb\\x8a\\xd2\\xa1d\\xaf&\\xee\\xcf\\x05\\x91\\xe8w\\xa6\\x1bs\\xa7\\xe1\\xcf\\x83(\\xb0;(\\xe5\\xc5\\x0ec\\xc7y\\xd02\\x88+M\\xbaT\\xd5\\x9b\\xad\\x84\\xed\\x17\\\\\\xe5\\xf41\\xb2\\xca`7B\\xf9\\x14R\\xe1\\x8d\\xb7\\x90\\x8eP\\xd1}\\xc6\\xefI_<\\x11G!\\xb3\\x154\\x82\\xeda\\xe8`\\x06\\x89\\xc2 \\xe5+\\']=\\xfe\\x93{\\xd0\\xb8\\x8b`\\xe0\\x08+\\x1d\\x89/I\\'Y\\x02', 6)}, '__safeContent__': [b'\\xd7\\xb5&\\xd7I\\x9eF;g\\xb8\\x9dEmGkbd}\\x8c\\xf7w\\x87\\xb1Y(\\xa3b\\xbf\\x1e\\x9fW\\x01']}\n"
          ]
        }
      ]
    }
  ]
}