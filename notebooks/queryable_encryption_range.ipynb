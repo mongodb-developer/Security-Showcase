{
  "cells": [
    {
      "cell_type": "markdown",
      "metadata": {
        "id": "QFdG4eYf3h0L"
      },
      "source": [
        "[![Open In Colab](https://colab.research.google.com/assets/colab-badge.svg)](https://colab.research.google.com/github/mongodb-developer/Security-Showcase/blob/main/notebooks/queryable_encryption_range.ipynb)\n"
      ]
    },
    {
      "cell_type": "markdown",
      "metadata": {
        "id": "IWD-uW5kF4pO"
      },
      "source": [
        "\n",
        "\n",
        "```\n",
        "# This is formatted as code\n",
        "```\n",
        "\n",
        "# MongoDB Queryable Range Encryption with Atlas - Developer Education (8.0+ only)\n",
        "\n",
        "This notebook is based on the available  [Queryable Encryption quick start](https://www.mongodb.com/docs/manual/core/queryable-encryption/quick-start/).\n",
        "\n",
        "# Installation of prerequisites"
      ]
    },
    {
      "cell_type": "code",
      "execution_count": 1,
      "metadata": {
        "colab": {
          "base_uri": "https://localhost:8080/"
        },
        "id": "VaTITJNyFoqI",
        "outputId": "5edfb5bc-cd29-4dec-d2ae-8267b6012ebe"
      },
      "outputs": [
        {
          "output_type": "stream",
          "name": "stdout",
          "text": [
            "Collecting pymongo[encryption]\n",
            "  Downloading pymongo-4.10.1-cp310-cp310-manylinux_2_17_x86_64.manylinux2014_x86_64.whl.metadata (22 kB)\n",
            "Collecting dnspython<3.0.0,>=1.16.0 (from pymongo[encryption])\n",
            "  Downloading dnspython-2.6.1-py3-none-any.whl.metadata (5.8 kB)\n",
            "Collecting pymongo-auth-aws<2.0.0,>=1.1.0 (from pymongo[encryption])\n",
            "  Downloading pymongo_auth_aws-1.3.0-py3-none-any.whl.metadata (17 kB)\n",
            "Collecting pymongocrypt<2.0.0,>=1.10.0 (from pymongo[encryption])\n",
            "  Downloading pymongocrypt-1.11.0-py3-none-manylinux_2_17_x86_64.manylinux2014_x86_64.whl.metadata (23 kB)\n",
            "Collecting boto3 (from pymongo-auth-aws<2.0.0,>=1.1.0->pymongo[encryption])\n",
            "  Downloading boto3-1.35.32-py3-none-any.whl.metadata (6.6 kB)\n",
            "Collecting botocore (from pymongo-auth-aws<2.0.0,>=1.1.0->pymongo[encryption])\n",
            "  Downloading botocore-1.35.32-py3-none-any.whl.metadata (5.6 kB)\n",
            "Requirement already satisfied: cffi<2,>=1.12.0 in /usr/local/lib/python3.10/dist-packages (from pymongocrypt<2.0.0,>=1.10.0->pymongo[encryption]) (1.17.1)\n",
            "Requirement already satisfied: cryptography>=40 in /usr/local/lib/python3.10/dist-packages (from pymongocrypt<2.0.0,>=1.10.0->pymongo[encryption]) (43.0.1)\n",
            "Collecting httpx>=0.25.0 (from pymongocrypt<2.0.0,>=1.10.0->pymongo[encryption])\n",
            "  Downloading httpx-0.27.2-py3-none-any.whl.metadata (7.1 kB)\n",
            "Requirement already satisfied: packaging>=21.0 in /usr/local/lib/python3.10/dist-packages (from pymongocrypt<2.0.0,>=1.10.0->pymongo[encryption]) (24.1)\n",
            "Requirement already satisfied: pycparser in /usr/local/lib/python3.10/dist-packages (from cffi<2,>=1.12.0->pymongocrypt<2.0.0,>=1.10.0->pymongo[encryption]) (2.22)\n",
            "Requirement already satisfied: anyio in /usr/local/lib/python3.10/dist-packages (from httpx>=0.25.0->pymongocrypt<2.0.0,>=1.10.0->pymongo[encryption]) (3.7.1)\n",
            "Requirement already satisfied: certifi in /usr/local/lib/python3.10/dist-packages (from httpx>=0.25.0->pymongocrypt<2.0.0,>=1.10.0->pymongo[encryption]) (2024.8.30)\n",
            "Collecting httpcore==1.* (from httpx>=0.25.0->pymongocrypt<2.0.0,>=1.10.0->pymongo[encryption])\n",
            "  Downloading httpcore-1.0.6-py3-none-any.whl.metadata (21 kB)\n",
            "Requirement already satisfied: idna in /usr/local/lib/python3.10/dist-packages (from httpx>=0.25.0->pymongocrypt<2.0.0,>=1.10.0->pymongo[encryption]) (3.10)\n",
            "Requirement already satisfied: sniffio in /usr/local/lib/python3.10/dist-packages (from httpx>=0.25.0->pymongocrypt<2.0.0,>=1.10.0->pymongo[encryption]) (1.3.1)\n",
            "Collecting h11<0.15,>=0.13 (from httpcore==1.*->httpx>=0.25.0->pymongocrypt<2.0.0,>=1.10.0->pymongo[encryption])\n",
            "  Downloading h11-0.14.0-py3-none-any.whl.metadata (8.2 kB)\n",
            "Collecting jmespath<2.0.0,>=0.7.1 (from boto3->pymongo-auth-aws<2.0.0,>=1.1.0->pymongo[encryption])\n",
            "  Downloading jmespath-1.0.1-py3-none-any.whl.metadata (7.6 kB)\n",
            "Collecting s3transfer<0.11.0,>=0.10.0 (from boto3->pymongo-auth-aws<2.0.0,>=1.1.0->pymongo[encryption])\n",
            "  Downloading s3transfer-0.10.2-py3-none-any.whl.metadata (1.7 kB)\n",
            "Requirement already satisfied: python-dateutil<3.0.0,>=2.1 in /usr/local/lib/python3.10/dist-packages (from botocore->pymongo-auth-aws<2.0.0,>=1.1.0->pymongo[encryption]) (2.8.2)\n",
            "Requirement already satisfied: urllib3!=2.2.0,<3,>=1.25.4 in /usr/local/lib/python3.10/dist-packages (from botocore->pymongo-auth-aws<2.0.0,>=1.1.0->pymongo[encryption]) (2.2.3)\n",
            "Requirement already satisfied: six>=1.5 in /usr/local/lib/python3.10/dist-packages (from python-dateutil<3.0.0,>=2.1->botocore->pymongo-auth-aws<2.0.0,>=1.1.0->pymongo[encryption]) (1.16.0)\n",
            "Requirement already satisfied: exceptiongroup in /usr/local/lib/python3.10/dist-packages (from anyio->httpx>=0.25.0->pymongocrypt<2.0.0,>=1.10.0->pymongo[encryption]) (1.2.2)\n",
            "Downloading dnspython-2.6.1-py3-none-any.whl (307 kB)\n",
            "\u001b[2K   \u001b[90m━━━━━━━━━━━━━━━━━━━━━━━━━━━━━━━━━━━━━━━━\u001b[0m \u001b[32m307.7/307.7 kB\u001b[0m \u001b[31m7.8 MB/s\u001b[0m eta \u001b[36m0:00:00\u001b[0m\n",
            "\u001b[?25hDownloading pymongo_auth_aws-1.3.0-py3-none-any.whl (15 kB)\n",
            "Downloading pymongocrypt-1.11.0-py3-none-manylinux_2_17_x86_64.manylinux2014_x86_64.whl (3.5 MB)\n",
            "\u001b[2K   \u001b[90m━━━━━━━━━━━━━━━━━━━━━━━━━━━━━━━━━━━━━━━━\u001b[0m \u001b[32m3.5/3.5 MB\u001b[0m \u001b[31m43.0 MB/s\u001b[0m eta \u001b[36m0:00:00\u001b[0m\n",
            "\u001b[?25hDownloading pymongo-4.10.1-cp310-cp310-manylinux_2_17_x86_64.manylinux2014_x86_64.whl (1.4 MB)\n",
            "\u001b[2K   \u001b[90m━━━━━━━━━━━━━━━━━━━━━━━━━━━━━━━━━━━━━━━━\u001b[0m \u001b[32m1.4/1.4 MB\u001b[0m \u001b[31m42.9 MB/s\u001b[0m eta \u001b[36m0:00:00\u001b[0m\n",
            "\u001b[?25hDownloading httpx-0.27.2-py3-none-any.whl (76 kB)\n",
            "\u001b[2K   \u001b[90m━━━━━━━━━━━━━━━━━━━━━━━━━━━━━━━━━━━━━━━━\u001b[0m \u001b[32m76.4/76.4 kB\u001b[0m \u001b[31m4.6 MB/s\u001b[0m eta \u001b[36m0:00:00\u001b[0m\n",
            "\u001b[?25hDownloading httpcore-1.0.6-py3-none-any.whl (78 kB)\n",
            "\u001b[2K   \u001b[90m━━━━━━━━━━━━━━━━━━━━━━━━━━━━━━━━━━━━━━━━\u001b[0m \u001b[32m78.0/78.0 kB\u001b[0m \u001b[31m5.2 MB/s\u001b[0m eta \u001b[36m0:00:00\u001b[0m\n",
            "\u001b[?25hDownloading boto3-1.35.32-py3-none-any.whl (139 kB)\n",
            "\u001b[2K   \u001b[90m━━━━━━━━━━━━━━━━━━━━━━━━━━━━━━━━━━━━━━━━\u001b[0m \u001b[32m139.1/139.1 kB\u001b[0m \u001b[31m7.7 MB/s\u001b[0m eta \u001b[36m0:00:00\u001b[0m\n",
            "\u001b[?25hDownloading botocore-1.35.32-py3-none-any.whl (12.6 MB)\n",
            "\u001b[2K   \u001b[90m━━━━━━━━━━━━━━━━━━━━━━━━━━━━━━━━━━━━━━━━\u001b[0m \u001b[32m12.6/12.6 MB\u001b[0m \u001b[31m58.0 MB/s\u001b[0m eta \u001b[36m0:00:00\u001b[0m\n",
            "\u001b[?25hDownloading jmespath-1.0.1-py3-none-any.whl (20 kB)\n",
            "Downloading s3transfer-0.10.2-py3-none-any.whl (82 kB)\n",
            "\u001b[2K   \u001b[90m━━━━━━━━━━━━━━━━━━━━━━━━━━━━━━━━━━━━━━━━\u001b[0m \u001b[32m82.7/82.7 kB\u001b[0m \u001b[31m4.7 MB/s\u001b[0m eta \u001b[36m0:00:00\u001b[0m\n",
            "\u001b[?25hDownloading h11-0.14.0-py3-none-any.whl (58 kB)\n",
            "\u001b[2K   \u001b[90m━━━━━━━━━━━━━━━━━━━━━━━━━━━━━━━━━━━━━━━━\u001b[0m \u001b[32m58.3/58.3 kB\u001b[0m \u001b[31m3.2 MB/s\u001b[0m eta \u001b[36m0:00:00\u001b[0m\n",
            "\u001b[?25hInstalling collected packages: jmespath, h11, dnspython, pymongo, httpcore, botocore, s3transfer, httpx, pymongocrypt, boto3, pymongo-auth-aws\n",
            "Successfully installed boto3-1.35.32 botocore-1.35.32 dnspython-2.6.1 h11-0.14.0 httpcore-1.0.6 httpx-0.27.2 jmespath-1.0.1 pymongo-4.10.1 pymongo-auth-aws-1.3.0 pymongocrypt-1.11.0 s3transfer-0.10.2\n",
            "Requirement already satisfied: requests in /usr/local/lib/python3.10/dist-packages (2.32.3)\n",
            "Requirement already satisfied: charset-normalizer<4,>=2 in /usr/local/lib/python3.10/dist-packages (from requests) (3.3.2)\n",
            "Requirement already satisfied: idna<4,>=2.5 in /usr/local/lib/python3.10/dist-packages (from requests) (3.10)\n",
            "Requirement already satisfied: urllib3<3,>=1.21.1 in /usr/local/lib/python3.10/dist-packages (from requests) (2.2.3)\n",
            "Requirement already satisfied: certifi>=2017.4.17 in /usr/local/lib/python3.10/dist-packages (from requests) (2024.8.30)\n"
          ]
        }
      ],
      "source": [
        "!pip install pymongo[encryption]\n",
        "!pip install requests"
      ]
    },
    {
      "cell_type": "markdown",
      "metadata": {
        "id": "y2ZeghQhF16A"
      },
      "source": []
    },
    {
      "cell_type": "code",
      "execution_count": 2,
      "metadata": {
        "id": "Qmddd06TF-0y"
      },
      "outputs": [],
      "source": [
        "\n",
        "import os\n",
        "from pymongo import MongoClient\n",
        "from pymongo.encryption import Algorithm, ClientEncryption, QueryType\n",
        "from pymongo.encryption_options import AutoEncryptionOpts\n",
        "from bson.codec_options import CodecOptions\n",
        "from bson import json_util\n",
        "import json\n",
        "import requests\n",
        "import platform\n",
        "import tempfile"
      ]
    },
    {
      "cell_type": "markdown",
      "metadata": {
        "id": "DEHejcLFF17p"
      },
      "source": [
        "Function to download and set up crypt_shared library"
      ]
    },
    {
      "cell_type": "code",
      "execution_count": 4,
      "metadata": {
        "id": "H-UUWErxGLwa"
      },
      "outputs": [],
      "source": [
        "def setup_crypt_shared():\n",
        "    system = platform.system().lower()\n",
        "    if system == \"linux\":\n",
        "        url = \"https://downloads.mongodb.com/linux/mongo_crypt_shared_v1-linux-x86_64-enterprise-ubuntu2004-8.0.0.tgz\"\n",
        "        filename = \"mongo_crypt_shared_v1-linux-x86_64-enterprise-ubuntu2004-8.0.0.tgz\"\n",
        "    elif system == \"darwin\":\n",
        "        url = \"https://downloads.mongodb.com/osx/mongo_crypt_shared_v1-macos-x86_64-enterprise-8.0.0.tgz\"\n",
        "        filename = \"mongo_crypt_shared_v1-macos-x86_64-enterprise-8.0.0.tgz\"\n",
        "    elif system == \"windows\":\n",
        "        url = \"https://downloads.mongodb.com/windows/mongo_crypt_shared_v1-windows-x86_64-enterprise-8.0.0.zip\"\n",
        "        filename = \"mongo_crypt_shared_v1-windows-x86_64-enterprise-8.0.0.zip\"\n",
        "    else:\n",
        "        raise OSError(\"Unsupported operating system\")\n",
        "\n",
        "    response = requests.get(url)\n",
        "    response.raise_for_status()\n",
        "\n",
        "    with tempfile.NamedTemporaryFile(delete=False, suffix=\".tgz\" if system != \"windows\" else \".zip\") as tmp_file:\n",
        "        tmp_file.write(response.content)\n",
        "        tmp_file_path = tmp_file.name\n",
        "\n",
        "    extract_dir = tempfile.mkdtemp()\n",
        "\n",
        "    if system != \"windows\":\n",
        "        os.system(f\"tar -xzf {tmp_file_path} -C {extract_dir}\")\n",
        "        lib_path = os.path.join(extract_dir, \"lib\", \"mongo_crypt_v1.so\")\n",
        "    else:\n",
        "        os.system(f\"powershell Expand-Archive -Path {tmp_file_path} -DestinationPath {extract_dir}\")\n",
        "        lib_path = os.path.join(extract_dir, \"bin\", \"mongo_crypt_v1.dll\")\n",
        "\n",
        "    return lib_path"
      ]
    },
    {
      "cell_type": "markdown",
      "metadata": {
        "id": "3KrMrvscGtzf"
      },
      "source": [
        "# Set up crypt_shared library"
      ]
    },
    {
      "cell_type": "code",
      "execution_count": 5,
      "metadata": {
        "colab": {
          "base_uri": "https://localhost:8080/"
        },
        "id": "RAPRybh7Gvy7",
        "outputId": "521f359c-1807-40d3-fe3d-6b48c3511b0d"
      },
      "outputs": [
        {
          "output_type": "stream",
          "name": "stdout",
          "text": [
            "Crypt shared library path: /tmp/tmp3sq3wf2j/lib/mongo_crypt_v1.so\n"
          ]
        }
      ],
      "source": [
        "crypt_shared_lib_path = setup_crypt_shared()\n",
        "print(f\"Crypt shared library path: {crypt_shared_lib_path}\")\n"
      ]
    },
    {
      "cell_type": "markdown",
      "metadata": {
        "id": "1c5d00evG51I"
      },
      "source": [
        " 1. Connect to your Atlas cluster"
      ]
    },
    {
      "cell_type": "code",
      "execution_count": 6,
      "metadata": {
        "colab": {
          "base_uri": "https://localhost:8080/"
        },
        "id": "5sZsGXF6G6f2",
        "outputId": "2671e7da-7d68-4c35-de15-21c664ca570a"
      },
      "outputs": [
        {
          "name": "stdout",
          "output_type": "stream",
          "text": [
            "Enter Atlas URI··········\n"
          ]
        }
      ],
      "source": [
        "import getpass\n",
        "MONGODB_ATLAS_URI = getpass.getpass(\"Enter Atlas URI\")\n",
        "\n",
        "key_vault_client = MongoClient(MONGODB_ATLAS_URI, appname=\"deverel.content.python\")"
      ]
    },
    {
      "cell_type": "markdown",
      "metadata": {
        "id": "LVfEBiDuHjmK"
      },
      "source": [
        "2. Set up encryption key and providers"
      ]
    },
    {
      "cell_type": "code",
      "execution_count": 7,
      "metadata": {
        "id": "-fY3ouQAHlTN"
      },
      "outputs": [],
      "source": [
        "local_master_key = os.urandom(96)\n",
        "kms_providers = {\"local\": {\"key\": local_master_key}}\n",
        "key_vault_namespace = \"encryption.__keyVault\"\n"
      ]
    },
    {
      "cell_type": "code",
      "execution_count": 8,
      "metadata": {
        "id": "GdN0aQugZT5y"
      },
      "outputs": [],
      "source": [
        "kms_provider_name=\"local\"\n",
        "key_vault_database_name = \"encryption\"\n",
        "key_vault_collection_name = \"__keyVault\"\n",
        "key_vault_namespace = f\"{key_vault_database_name}.{key_vault_collection_name}\"\n",
        "encrypted_database_name = \"medicalRecords\"\n",
        "encrypted_collection_name = \"patients\""
      ]
    },
    {
      "cell_type": "markdown",
      "metadata": {
        "id": "1fL4CSAyHrWt"
      },
      "source": [
        "3. Create a ClientEncryption object"
      ]
    },
    {
      "cell_type": "code",
      "execution_count": 9,
      "metadata": {
        "id": "kLWXj8K8LM3X",
        "outputId": "e4df9a48-1fea-438b-d1bb-f124a5a2dc8e",
        "colab": {
          "base_uri": "https://localhost:8080/"
        }
      },
      "outputs": [
        {
          "output_type": "stream",
          "name": "stdout",
          "text": [
            "Requirement already satisfied: pymongo[encryption] in /usr/local/lib/python3.10/dist-packages (4.10.1)\n",
            "Requirement already satisfied: dnspython<3.0.0,>=1.16.0 in /usr/local/lib/python3.10/dist-packages (from pymongo[encryption]) (2.6.1)\n",
            "Requirement already satisfied: pymongo-auth-aws<2.0.0,>=1.1.0 in /usr/local/lib/python3.10/dist-packages (from pymongo[encryption]) (1.3.0)\n",
            "Requirement already satisfied: pymongocrypt<2.0.0,>=1.10.0 in /usr/local/lib/python3.10/dist-packages (from pymongo[encryption]) (1.11.0)\n",
            "Requirement already satisfied: boto3 in /usr/local/lib/python3.10/dist-packages (from pymongo-auth-aws<2.0.0,>=1.1.0->pymongo[encryption]) (1.35.32)\n",
            "Requirement already satisfied: botocore in /usr/local/lib/python3.10/dist-packages (from pymongo-auth-aws<2.0.0,>=1.1.0->pymongo[encryption]) (1.35.32)\n",
            "Requirement already satisfied: cffi<2,>=1.12.0 in /usr/local/lib/python3.10/dist-packages (from pymongocrypt<2.0.0,>=1.10.0->pymongo[encryption]) (1.17.1)\n",
            "Requirement already satisfied: cryptography>=40 in /usr/local/lib/python3.10/dist-packages (from pymongocrypt<2.0.0,>=1.10.0->pymongo[encryption]) (43.0.1)\n",
            "Requirement already satisfied: httpx>=0.25.0 in /usr/local/lib/python3.10/dist-packages (from pymongocrypt<2.0.0,>=1.10.0->pymongo[encryption]) (0.27.2)\n",
            "Requirement already satisfied: packaging>=21.0 in /usr/local/lib/python3.10/dist-packages (from pymongocrypt<2.0.0,>=1.10.0->pymongo[encryption]) (24.1)\n",
            "Requirement already satisfied: pycparser in /usr/local/lib/python3.10/dist-packages (from cffi<2,>=1.12.0->pymongocrypt<2.0.0,>=1.10.0->pymongo[encryption]) (2.22)\n",
            "Requirement already satisfied: anyio in /usr/local/lib/python3.10/dist-packages (from httpx>=0.25.0->pymongocrypt<2.0.0,>=1.10.0->pymongo[encryption]) (3.7.1)\n",
            "Requirement already satisfied: certifi in /usr/local/lib/python3.10/dist-packages (from httpx>=0.25.0->pymongocrypt<2.0.0,>=1.10.0->pymongo[encryption]) (2024.8.30)\n",
            "Requirement already satisfied: httpcore==1.* in /usr/local/lib/python3.10/dist-packages (from httpx>=0.25.0->pymongocrypt<2.0.0,>=1.10.0->pymongo[encryption]) (1.0.6)\n",
            "Requirement already satisfied: idna in /usr/local/lib/python3.10/dist-packages (from httpx>=0.25.0->pymongocrypt<2.0.0,>=1.10.0->pymongo[encryption]) (3.10)\n",
            "Requirement already satisfied: sniffio in /usr/local/lib/python3.10/dist-packages (from httpx>=0.25.0->pymongocrypt<2.0.0,>=1.10.0->pymongo[encryption]) (1.3.1)\n",
            "Requirement already satisfied: h11<0.15,>=0.13 in /usr/local/lib/python3.10/dist-packages (from httpcore==1.*->httpx>=0.25.0->pymongocrypt<2.0.0,>=1.10.0->pymongo[encryption]) (0.14.0)\n",
            "Requirement already satisfied: jmespath<2.0.0,>=0.7.1 in /usr/local/lib/python3.10/dist-packages (from boto3->pymongo-auth-aws<2.0.0,>=1.1.0->pymongo[encryption]) (1.0.1)\n",
            "Requirement already satisfied: s3transfer<0.11.0,>=0.10.0 in /usr/local/lib/python3.10/dist-packages (from boto3->pymongo-auth-aws<2.0.0,>=1.1.0->pymongo[encryption]) (0.10.2)\n",
            "Requirement already satisfied: python-dateutil<3.0.0,>=2.1 in /usr/local/lib/python3.10/dist-packages (from botocore->pymongo-auth-aws<2.0.0,>=1.1.0->pymongo[encryption]) (2.8.2)\n",
            "Requirement already satisfied: urllib3!=2.2.0,<3,>=1.25.4 in /usr/local/lib/python3.10/dist-packages (from botocore->pymongo-auth-aws<2.0.0,>=1.1.0->pymongo[encryption]) (2.2.3)\n",
            "Requirement already satisfied: six>=1.5 in /usr/local/lib/python3.10/dist-packages (from python-dateutil<3.0.0,>=2.1->botocore->pymongo-auth-aws<2.0.0,>=1.1.0->pymongo[encryption]) (1.16.0)\n",
            "Requirement already satisfied: exceptiongroup in /usr/local/lib/python3.10/dist-packages (from anyio->httpx>=0.25.0->pymongocrypt<2.0.0,>=1.10.0->pymongo[encryption]) (1.2.2)\n"
          ]
        }
      ],
      "source": [
        "!python3 -m pip install 'pymongo[encryption]'"
      ]
    },
    {
      "cell_type": "code",
      "execution_count": 10,
      "metadata": {
        "id": "EVsxscyOHsFm"
      },
      "outputs": [],
      "source": [
        "auto_encryption_options = AutoEncryptionOpts(\n",
        "    kms_providers,\n",
        "    key_vault_namespace,\n",
        "    crypt_shared_lib_path=crypt_shared_lib_path\n",
        ")"
      ]
    },
    {
      "cell_type": "markdown",
      "metadata": {
        "id": "-FDRnyjCHw2j"
      },
      "source": [
        " 4. Set up the key vault"
      ]
    },
    {
      "cell_type": "code",
      "execution_count": 11,
      "metadata": {
        "id": "LdA-OUbLHv2T"
      },
      "outputs": [],
      "source": [
        "encrypted_client = MongoClient(\n",
        "    MONGODB_ATLAS_URI, auto_encryption_opts=auto_encryption_options)\n"
      ]
    },
    {
      "cell_type": "markdown",
      "metadata": {
        "id": "5xJ9bg2SH9AJ"
      },
      "source": [
        "6. Define the encrypted fields map"
      ]
    },
    {
      "cell_type": "code",
      "execution_count": 15,
      "metadata": {
        "id": "3oTfRARHH25R"
      },
      "outputs": [],
      "source": [
        "encrypted_fields_map = {\n",
        "    \"fields\": [\n",
        "        {\n",
        "            \"path\": \"patientRecord.ssn\",\n",
        "            \"bsonType\": \"int\",\n",
        "            \"queries\": [{\"queryType\": \"range\"}] # potentially 'range'\n",
        "        },\n",
        "        {\n",
        "            \"path\": \"patientRecord.billing\",\n",
        "            \"bsonType\": \"object\",\n",
        "        }\n",
        "    ]\n",
        "}"
      ]
    },
    {
      "cell_type": "markdown",
      "metadata": {
        "id": "gmbCUFo4IAsv"
      },
      "source": [
        "7. Create an encrypted client"
      ]
    },
    {
      "cell_type": "code",
      "execution_count": 16,
      "metadata": {
        "id": "Sy8KZOD7H-W-"
      },
      "outputs": [],
      "source": [
        "client_encryption = ClientEncryption(\n",
        "    kms_providers=kms_providers,\n",
        "    key_vault_namespace=key_vault_namespace,\n",
        "    key_vault_client=encrypted_client,\n",
        "    codec_options=CodecOptions()\n",
        ")\n",
        "\n",
        "\n"
      ]
    },
    {
      "cell_type": "markdown",
      "metadata": {
        "id": "Z_Gw2kw-IM3y"
      },
      "source": [
        " 8. Set up and use the encrypted collection"
      ]
    },
    {
      "cell_type": "code",
      "execution_count": 17,
      "metadata": {
        "colab": {
          "base_uri": "https://localhost:8080/"
        },
        "id": "1P80BuvUWVY2",
        "outputId": "cda2edc3-db3e-45ef-bbfb-53f5da9468c6"
      },
      "outputs": [
        {
          "output_type": "execute_result",
          "data": {
            "text/plain": [
              "(Collection(Database(MongoClient(host=['80cluster-shard-00-00.u9i2v.mongodb.net:27017', '80cluster-shard-00-01.u9i2v.mongodb.net:27017', '80cluster-shard-00-02.u9i2v.mongodb.net:27017'], document_class=dict, tz_aware=False, connect=True, authsource='admin', replicaset='atlas-zwqf6i-shard-0', tls=True, auto_encryption_opts=<pymongo.encryption_options.AutoEncryptionOpts object at 0x7d62cc0befb0>), 'medicalRecords'), 'patients'),\n",
              " {'fields': [{'path': 'patientRecord.ssn',\n",
              "    'bsonType': 'int',\n",
              "    'queries': [{'queryType': 'range'}],\n",
              "    'keyId': Binary(b'\\x86p\\x17p\\x16;G\\xa9\\xae\\xcf\\x80\\xf3\\x8az\\xa3h', 4)},\n",
              "   {'path': 'patientRecord.billing',\n",
              "    'bsonType': 'object',\n",
              "    'keyId': Binary(b')\\xb5\\x95\\xd5%HL+\\xad\\xc1\\x07\\x9cX\\xd6=O', 4)}]})"
            ]
          },
          "metadata": {},
          "execution_count": 17
        }
      ],
      "source": [
        "client_encryption.create_encrypted_collection(\n",
        "    encrypted_client[encrypted_database_name],\n",
        "    encrypted_collection_name,\n",
        "    encrypted_fields_map,\n",
        "    kms_provider_name,\n",
        "    {},\n",
        ")"
      ]
    },
    {
      "cell_type": "markdown",
      "metadata": {
        "id": "YkQWvDzVI1kP"
      },
      "source": [
        "9. Insert an encrypted document"
      ]
    },
    {
      "cell_type": "code",
      "execution_count": 18,
      "metadata": {
        "colab": {
          "base_uri": "https://localhost:8080/"
        },
        "id": "HTVQHCrVI9WB",
        "outputId": "76fe242b-7214-4ec9-d930-b2aa385683d0"
      },
      "outputs": [
        {
          "output_type": "stream",
          "name": "stdout",
          "text": [
            "Inserted document ID: 66fec5dc2c01cafbb97ba29e\n"
          ]
        }
      ],
      "source": [
        "patient_document = {\n",
        "    \"patientName\": \"Jon Doe\",\n",
        "    \"patientId\": 12345678,\n",
        "    \"patientRecord\": {\n",
        "        \"ssn\": 987654320,\n",
        "        \"billing\": {\n",
        "            \"type\": \"Visa\",\n",
        "            \"number\": \"4111111111111111\",\n",
        "        },\n",
        "    },\n",
        "}\n",
        "encrypted_collection = encrypted_client[encrypted_database_name][encrypted_collection_name]\n",
        "result = encrypted_collection.insert_one(patient_document)\n",
        "print(f\"Inserted document ID: {result.inserted_id}\")"
      ]
    },
    {
      "cell_type": "markdown",
      "metadata": {
        "id": "pKqv2_jfJEBQ"
      },
      "source": [
        "10. Query the encrypted collection with a Range operator.\n",
        "\n",
        "> Add blockquote\n",
        "\n"
      ]
    },
    {
      "cell_type": "code",
      "execution_count": 19,
      "metadata": {
        "colab": {
          "base_uri": "https://localhost:8080/"
        },
        "id": "YGaDxbCXI3jQ",
        "outputId": "1d1e4394-9ebb-4bd4-da11-49776dfca6c0"
      },
      "outputs": [
        {
          "output_type": "stream",
          "name": "stdout",
          "text": [
            "{'_id': ObjectId('66fec5dc2c01cafbb97ba29e'), 'patientName': 'Jon Doe', 'patientId': 12345678, 'patientRecord': {'ssn': 987654320, 'billing': {'type': 'Visa', 'number': '4111111111111111'}}, '__safeContent__': [b'K\\x17\\xdf\\x86\\\\\\xa8\\xe7\\xd6Rt\\x07A\\x1e\\xab\\xccF\\xcb9\\n\\x0f\\x9e\\xb5\\xf1c\\xe61{\\xfe\\xd9\\xd0\\xf9\\x0b', b'A\\x94\\x0fo%rPk;\\xa2f\\x1b\\x11}\\xbb1:\\x072+\\x07\\x96n\\xb1\\xaf\\xcc\\xc2SPb\\xa68', b'y\\x9e\\x1am\\x08H\\x8c\\x15\\xd3;(\\xe3\\x12|5\\t#\\xb4\\x0e\\xd7\\xd6\\xb0\\x8a\\x96\\x07d\\xcb~bYU\\x17', b'\\x93\\x05\\xf8\\xb7\\xadC\\xb56G\\xa1,\\xf8!\\xb4|O\\x96i\\x8fQ\\x92\\xd2\\xf2P\\xfc\\x13O\\x19\\x19is\\xf2', b'5\\xa3\\xac\\xfd\\x1d\\xea\\xd8\\t\\x8f\\xf5M\\xc6N\\x8bA1\\xf8\\xed\\xb1\\xfb~\\x1e5H\\xf4\\x0e\\x88&\\xa3@\\xd0\\x14', b'~\\xd3\\x03\\x17\\x9d9i\\x85\\x11\\xae\\x10\\x15q\\\\\\xfa\\xca\\x88S\\x15\\xa6\\x8a\\x9eB3*\\xb1\\xa7e\\x07Q\\xc6!', b'\\x0b\\x00\\xd8\\xc7\\x0b\\xac\\xd4\\xebLK`\\x05\\xa3\\x17\\xc2&\\xb4\\x0b\\x94M\\x15\\xcc^\\x12{g\\x8e]\\xc1\\x9a\\xf1\\x96', b\"\\x80\\x10\\xcejD\\xc6r\\x8f\\xceY\\xc3\\xad<.\\xfdx6\\xb4\\x83o\\xb0'ij\\\\J\\xc1\\x11\\xce\\x1c/\\x1f\", b'\\xf1?\\xf1\\xa1E\\xd2\\xcc\\x94\\x90\\xa1ub\\x927\\x8e\\xe7\\x0cW\\x0f\\\\\\xee3\\xa8\\xd5\\xc6\\xbb\\xf2\\xac\\xfa\\xf7\\x8e\\xf8', b'q\\xab5\\x15\\xf1,?\\xf3\\xb5\\x915&ezW2\\x80\\x8b\\x1f\\xd0oD\\xc4\\xee\\xfesi\\x18\\xf21Hv', b'92+o\\xc9\\xdc\\xb6\\x94\\x0fhs\\x86\\xbf\\x14`\\x08xA\\x89\\xa1R \\xf8:;!\\xb1g\\x06M\\x98\\xa7', b'\\xc6\\xd4U\\xba\\x87\\x01\\xfb-\\xb1\\x9a\\x90\\xcd\\xd3\\xcao\\x88k\\xffM\\xb7<\\xe1g\\xfe\\xc8\\xfd\\xe1\\xb1\\x7f[/\\x86', b'\\xe7\\xde\\xcd:(\\x15o\\xbc\\xd4\\xda\\x17\\xac\\xeb\\x9eM&\\xa5\\xa5.\\x9f<\\x98\\xdf\\xe7\\xe1\\xd6>\\x1d\\xa9$\\x9e\\xaf', b'Q\\xa3\\x06\\x17\\x1cQ\\x96\\xa5\\xa8?\\xf1\\x95\\\\\\xc2\\x0c\\x92F\\x1b\\xdb\\xc3\\xd6\\xe1\\xc6g\\xdcR\\xf4\\xe9\\x1f\\xcd\"\\xe0']}\n"
          ]
        }
      ],
      "source": [
        "find_result = encrypted_collection.find_one({\n",
        "    \"patientRecord.ssn\": {\"$gte\" : 987654320}\n",
        "})\n",
        "print(find_result)\n"
      ]
    },
    {
      "cell_type": "code",
      "execution_count": 20,
      "metadata": {
        "colab": {
          "base_uri": "https://localhost:8080/"
        },
        "id": "ka1s3bp3JGsc",
        "outputId": "2f91fdd3-f0d9-42fd-b6c5-0cbf73e984eb"
      },
      "outputs": [
        {
          "output_type": "stream",
          "name": "stdout",
          "text": [
            "\n",
            "Querying without encryption:\n",
            "None\n",
            "\n",
            "All documents in the collection:\n",
            "{'_id': ObjectId('66fec5dc2c01cafbb97ba29e'), 'patientName': 'Jon Doe', 'patientId': 12345678, 'patientRecord': {'ssn': Binary(b'\\x0f\\x86p\\x17p\\x16;G\\xa9\\xae\\xcf\\x80\\xf3\\x8az\\xa3h\\x10\\x0e\\xb4m\\x11ut\\x8f\\xa4$P\\xe3Cq` \\xd2\\xfe5\\xd1\\xe9$\\x8f\\x15\\xb0N\\xc1\\xa1\\x87E\\xee\\xc9\\x9d.\\x0b\\x00\\xb4\\x17\\x11h\\x86\\'\\xcf\\xa8\\'\\x05\\xc9&\\x0fT\\xc0Z0\\x0c\\x06e\\xbc\\xad\\xdb\\xf7E\\xeb\\x17_\\xcb[m\\xcf\\xdd\\xae\\x03\\xd4K\\xca\\xa6S\\x0b,\\xb1\\xfe\\x9dRvn\\xdc\\xb3\\xc0\\xd8.\\x06,eo\\xd2:\\xecQ\\xf5\\x0b\\xb7M\\x12N\\xda\\xff\\x1b\\x90\\xa9\\'\\xa1\\x14\\x86\\x9721\\x95\\x95\\xb9\\xb2Tr\\x00\\xc0\\xb0`\\xb5\\x1a\\x19^\\x16K\\x17\\xdf\\x86\\\\\\xa8\\xe7\\xd6Rt\\x07A\\x1e\\xab\\xccF\\xcb9\\n\\x0f\\x9e\\xb5\\xf1c\\xe61{\\xfe\\xd9\\xd0\\xf9\\x0b\\xd2\\x19\\xce%n_p\\xc3\\x0b\\xea\\xf3\\x0c4H^\\xee\\xea\\x9c\\xe9\\xb4h\\x88\\r\\xe2\\xc4o&\\xfe\\xe1C<\\x19\\xc6\\x06\\xf9\\xc9\\xa9\\xcbr\\x17n\\x12\\xa1%\\x05d\\x11\\x05\\xa8s\\xde#h\\x8a\\xcc\\x1f,?\\x83\\n<\\xec\\xbc\\xe8A\\x94\\x0fo%rPk;\\xa2f\\x1b\\x11}\\xbb1:\\x072+\\x07\\x96n\\xb1\\xaf\\xcc\\xc2SPb\\xa68\\xcf\\x04\\r\\xd8\\xf0\\x88#\\xe7e\\xd2U\\xeb\\xc3<\\x14\\xc7h\\x1d\\x96=c_s\\xf4\\xa4q>X\\x15387\\x7f\\nB6\\x02\"N\\x02\\x84\\x9f\\x8f\\xfc_\\xf1\\x19\\x9a\\x0fa\\xc7\\xe2\\xab4\\xf8\\xca\\xf7\\n\\x99\\xd8`**\\xa0y\\x9e\\x1am\\x08H\\x8c\\x15\\xd3;(\\xe3\\x12|5\\t#\\xb4\\x0e\\xd7\\xd6\\xb0\\x8a\\x96\\x07d\\xcb~bYU\\x17;\\xdc{\\xf5$\\xb5\\x8aRt\\x04\\xa8\\x9d\\xa4F\\xfc;\\r\\xec\\xe7\\x95\\xe45\\xdbU\\xc9K\\xff\\xed\\xca\\xa8l\\x0e\\x943\\xbbJajH\\xcd\\xfcq\\xff\\xb1\\xb6Q\\x99\\x9d\\x8c\\xa5E\\xba/\\xc9*\\x9b\\xb6\\x0f0t\\xf2\\xcf\\x05\\x95\\x93\\x05\\xf8\\xb7\\xadC\\xb56G\\xa1,\\xf8!\\xb4|O\\x96i\\x8fQ\\x92\\xd2\\xf2P\\xfc\\x13O\\x19\\x19is\\xf2\\xa1\\xa0\\xea\\x04)\\x17\\xde\\xae\\x9br$\\xbd\\xf4\\xd5IYC\\xe3Y{s\\x8dJ\\x1aX\\xf6\\xdb\\x84\\xe2\\xc5\\xb8T\\xe0\\xc5\\x12\\x90\\xeb\\xa9\\xf2H\\xd0\\xcaL\\x00\\x01(\\x8ec\\xb8Fdx*\\xc3\\x9a\\xdf\\x9f\\x07\\xa1Z[\\x1f\\\\H5\\xa3\\xac\\xfd\\x1d\\xea\\xd8\\t\\x8f\\xf5M\\xc6N\\x8bA1\\xf8\\xed\\xb1\\xfb~\\x1e5H\\xf4\\x0e\\x88&\\xa3@\\xd0\\x14q,\\xa9\\x99\\x86\\\\\\xd8\\xf2\\xed\\x83\\xef\\xfd\\xfcb\\xc5\\xba]ppfmH\\xbe\\xfcmDT-\\xf8\\x87C\\xec\\xd7\\xb0\\x96\\x16M\\x19K\\xb4A/\\xf0\\xe7>\\xf2:\\xb3\\xa4H\\xb6\\x0f\\x89\\x08\\xbb\\x05\\xb3\\xbbJ\\x85\\xcf\\xf9\\xfec~\\xd3\\x03\\x17\\x9d9i\\x85\\x11\\xae\\x10\\x15q\\\\\\xfa\\xca\\x88S\\x15\\xa6\\x8a\\x9eB3*\\xb1\\xa7e\\x07Q\\xc6!\\xe0d\\xa8=\\x8a9\\x94\\x1b\\x17\\xcf\\x9c>\\x96e\\x88\\xe4\\x19r\\x95g\\xaf,A\\xef-\\xe5\\x11\\x7f\\xa3\\x8b\\n\\x1b\\x10\\xd2\\x973\\xec\\xc6\\xa7n\\x08\\x19R\\xeeF\\x94\\x1c\\xa1\\xd7\\x80\\x00(\\x9eR\\x1elw\\x1a0\\x0bz>\\xb0s\\x0b\\x00\\xd8\\xc7\\x0b\\xac\\xd4\\xebLK`\\x05\\xa3\\x17\\xc2&\\xb4\\x0b\\x94M\\x15\\xcc^\\x12{g\\x8e]\\xc1\\x9a\\xf1\\x96s\\xb6\\x94\\x95\\xc0 \\x98\\xa2R_I\\xe4\\xab\\r\\x0b\\xc3G>Z\\xc2\\x8dST.X\\xf0\\x07KW\\xf9\\xb7\\xe2\\xe9\\xdc\\\\\\xad\\xf7\"\\xad\\xbb\\x83\\xdf\\x1c\\xac\\x8fa\\x94\\xb7\\x8f\\xb6\\x17\\xb1S\\xc0\\x0c\\x7f\\x10^\\xd6|\\xf7Ew\\xe2\\x80\\x10\\xcejD\\xc6r\\x8f\\xceY\\xc3\\xad<.\\xfdx6\\xb4\\x83o\\xb0\\'ij\\\\J\\xc1\\x11\\xce\\x1c/\\x1f\\xe3\\xa0\\xbd\\xe3\\x91w\\xd9\\xe3\\x94\\xbe\\x8c\\x1c\\xad\\x0cI@\\x0f\\xe0N\\xa5-\\x9e\\x8d\\xedz\\xed\\x8eoCe3\\xca\\x8c\\xebI=?}\\xed\\x98m\\xfb\\xad]\"\\x19\\x15\\x15\\x9e0\\xbe\\xd7\\xd0\\r\\xa1\\t\\xba\\xda\\xf8GV\\xb6\\xdf^\\xf1?\\xf1\\xa1E\\xd2\\xcc\\x94\\x90\\xa1ub\\x927\\x8e\\xe7\\x0cW\\x0f\\\\\\xee3\\xa8\\xd5\\xc6\\xbb\\xf2\\xac\\xfa\\xf7\\x8e\\xf8_\\xe2=.\\xb9\\xf9\\xc4\\xbcH\\xaf\\x85\\x84\\xe9\\xf9B\\x9e#^\\x07\\xdfL\\xdbE\\xf5\\x10\\x06\\xff\\x0e\\xe8P\\xad4\\x9fzB\\x18\\x83P\\x02\\x06\\x19\\xa1\\xd2\\xb1\\x94\\x0b\\xffGQ\\xe4b|M\\xa8k\\x1e&-\\xa8>\\x8c\\xf4:\\x07q\\xab5\\x15\\xf1,?\\xf3\\xb5\\x915&ezW2\\x80\\x8b\\x1f\\xd0oD\\xc4\\xee\\xfesi\\x18\\xf21HvV\\xd8@=\\xf2\\x05i\\xa5\\x19k\\xf4K\\x16\\xd5\\xa6\\'\\xd61)\\xe9\\x9d\\x00\\xec\\xce\\x15\\xf7\\xa4\\xc8\\x94\\xd4\\x88\\xef\\xd5KE\\xcc\\x0fZ[V\\n\\xa3:\\x89I\\x02\\x1a\\xa5\\xb1\\xa3\\xd9n\\x15\\x0f\\xae\\xae |hk\\x853/\\n92+o\\xc9\\xdc\\xb6\\x94\\x0fhs\\x86\\xbf\\x14`\\x08xA\\x89\\xa1R \\xf8:;!\\xb1g\\x06M\\x98\\xa7F\\x96iP\\xe8\\xb5\\xe0j\\x15\\xac\\xa5\\xc9\\xf4\\xf6\\xaaS\\xba\\x89\\xbcun\\xf4\\xec\\xda\\xc6\\xa6\\x8f\\x9czT$\\xb5\\x1c\\xcf\\x0e\\xd8HRMb\\xd5\\xd5\\xd1&=\\r\\xd8k\\xffSi5-\\x1e\\x02\\xaa|Y\\x1b\\x86\\xf8\\x92\\x04\\xd5\\xc6\\xd4U\\xba\\x87\\x01\\xfb-\\xb1\\x9a\\x90\\xcd\\xd3\\xcao\\x88k\\xffM\\xb7<\\xe1g\\xfe\\xc8\\xfd\\xe1\\xb1\\x7f[/\\x86V\\x92\\xa5X{\\xf5\\x01\\xa4\\xd0\\xb1i\\xb1\\xf8\\x9f\\xd5(\\xdby\\x7f\\'\\x06\\xaa\\xb8\\x96\\x00\\x15\\xfe4C\\x87Cu\\xd8<4\\x13\\xab\\x13P\\xb1\\\\\\xc0\\xfe\\x97O\\x9c\\xc9\\xd1J\\x04\\xbf6\\xa40\\xc7\\x8a\\xab\\x94#\\xe8\\x9d]\\x8a5\\xe7\\xde\\xcd:(\\x15o\\xbc\\xd4\\xda\\x17\\xac\\xeb\\x9eM&\\xa5\\xa5.\\x9f<\\x98\\xdf\\xe7\\xe1\\xd6>\\x1d\\xa9$\\x9e\\xaf\\xb1\\xae\\xbf ?\\xedG(\\xe2\\xbb\\x08\\xf2kp\\x0e\\xa8\\xa1\\x8e\\xd5\\x93\\x18\\xb5\\x0bK\\xf51\\n\\x00\\xd8\\xd7\\xd5\\xb5\\xc3\\xbb \\x94\\xe6\\xc1\\x1a@x\\xb7\\xbcZ\\xa6Q\\x93\\x1bY*n\\xb61\\xaf\\x1d\\x13\\x98\\xb1V\\xdcp\\xc2A;Q\\xa3\\x06\\x17\\x1cQ\\x96\\xa5\\xa8?\\xf1\\x95\\\\\\xc2\\x0c\\x92F\\x1b\\xdb\\xc3\\xd6\\xe1\\xc6g\\xdcR\\xf4\\xe9\\x1f\\xcd\"\\xe0\\xe4X\\x93\\x83U;\\xcaG\\xd9\\xbd=F\\x1f\\x11N_\\xfdh\\x08\\xb2Q\\x87(\\x11]r\\x03\\xe76\\xf6\\xb4\\\\', 6), 'billing': Binary(b\"\\x10)\\xb5\\x95\\xd5%HL+\\xad\\xc1\\x07\\x9cX\\xd6=O\\x03\\xe6\\xff4#\\x9b\\t\\xed\\xa7\\x80\\n\\x0c\\xeb\\xcar;\\xf2\\xd0o\\x1a\\xa01\\xc4!K\\xc0-\\xea*\\xa4\\xb7s\\x9c[\\xaec\\xb4\\x92h\\xe4\\xdb@\\xb0\\xcb_\\x1f\\x07\\x86\\xa6\\xf2\\xd3AW\\xde\\xae8\\xef\\xacC\\xef!\\xef\\x91\\xc6-\\xc9v\\x81\\xef\\xd4+5\\xa4'\\x06\\xe2\\x0fL3\\xf23\\xb8\\xf7\\x8dA\\xc0\\xb2\\xd4O\\xebn\\xc1N\\xe1\\x12\\x86\\xfc\\xb6\\x06JM{\\x99\\xd9\\\\N\\x03\\xe8\\x16\\xd9\\xb8]c\", 6)}, '__safeContent__': [b'K\\x17\\xdf\\x86\\\\\\xa8\\xe7\\xd6Rt\\x07A\\x1e\\xab\\xccF\\xcb9\\n\\x0f\\x9e\\xb5\\xf1c\\xe61{\\xfe\\xd9\\xd0\\xf9\\x0b', b'A\\x94\\x0fo%rPk;\\xa2f\\x1b\\x11}\\xbb1:\\x072+\\x07\\x96n\\xb1\\xaf\\xcc\\xc2SPb\\xa68', b'y\\x9e\\x1am\\x08H\\x8c\\x15\\xd3;(\\xe3\\x12|5\\t#\\xb4\\x0e\\xd7\\xd6\\xb0\\x8a\\x96\\x07d\\xcb~bYU\\x17', b'\\x93\\x05\\xf8\\xb7\\xadC\\xb56G\\xa1,\\xf8!\\xb4|O\\x96i\\x8fQ\\x92\\xd2\\xf2P\\xfc\\x13O\\x19\\x19is\\xf2', b'5\\xa3\\xac\\xfd\\x1d\\xea\\xd8\\t\\x8f\\xf5M\\xc6N\\x8bA1\\xf8\\xed\\xb1\\xfb~\\x1e5H\\xf4\\x0e\\x88&\\xa3@\\xd0\\x14', b'~\\xd3\\x03\\x17\\x9d9i\\x85\\x11\\xae\\x10\\x15q\\\\\\xfa\\xca\\x88S\\x15\\xa6\\x8a\\x9eB3*\\xb1\\xa7e\\x07Q\\xc6!', b'\\x0b\\x00\\xd8\\xc7\\x0b\\xac\\xd4\\xebLK`\\x05\\xa3\\x17\\xc2&\\xb4\\x0b\\x94M\\x15\\xcc^\\x12{g\\x8e]\\xc1\\x9a\\xf1\\x96', b\"\\x80\\x10\\xcejD\\xc6r\\x8f\\xceY\\xc3\\xad<.\\xfdx6\\xb4\\x83o\\xb0'ij\\\\J\\xc1\\x11\\xce\\x1c/\\x1f\", b'\\xf1?\\xf1\\xa1E\\xd2\\xcc\\x94\\x90\\xa1ub\\x927\\x8e\\xe7\\x0cW\\x0f\\\\\\xee3\\xa8\\xd5\\xc6\\xbb\\xf2\\xac\\xfa\\xf7\\x8e\\xf8', b'q\\xab5\\x15\\xf1,?\\xf3\\xb5\\x915&ezW2\\x80\\x8b\\x1f\\xd0oD\\xc4\\xee\\xfesi\\x18\\xf21Hv', b'92+o\\xc9\\xdc\\xb6\\x94\\x0fhs\\x86\\xbf\\x14`\\x08xA\\x89\\xa1R \\xf8:;!\\xb1g\\x06M\\x98\\xa7', b'\\xc6\\xd4U\\xba\\x87\\x01\\xfb-\\xb1\\x9a\\x90\\xcd\\xd3\\xcao\\x88k\\xffM\\xb7<\\xe1g\\xfe\\xc8\\xfd\\xe1\\xb1\\x7f[/\\x86', b'\\xe7\\xde\\xcd:(\\x15o\\xbc\\xd4\\xda\\x17\\xac\\xeb\\x9eM&\\xa5\\xa5.\\x9f<\\x98\\xdf\\xe7\\xe1\\xd6>\\x1d\\xa9$\\x9e\\xaf', b'Q\\xa3\\x06\\x17\\x1cQ\\x96\\xa5\\xa8?\\xf1\\x95\\\\\\xc2\\x0c\\x92F\\x1b\\xdb\\xc3\\xd6\\xe1\\xc6g\\xdcR\\xf4\\xe9\\x1f\\xcd\"\\xe0']}\n"
          ]
        }
      ],
      "source": [
        "print(\"\\nQuerying without encryption:\")\n",
        "\n",
        "reg_mongoclient = MongoClient(MONGODB_ATLAS_URI)\n",
        "\n",
        "find_result = reg_mongoclient[encrypted_database_name][encrypted_collection_name].find_one({\n",
        "    \"patientRecord.ssn\": {\"$gte\" : 987654320}\n",
        "})\n",
        "print(find_result)\n",
        "\n",
        "all_docs = reg_mongoclient[encrypted_database_name][encrypted_collection_name].find()\n",
        "print(\"\\nAll documents in the collection:\")\n",
        "for doc in all_docs:\n",
        "    print(doc)"
      ]
    }
  ],
  "metadata": {
    "colab": {
      "provenance": []
    },
    "kernelspec": {
      "display_name": "Python 3",
      "language": "python",
      "name": "python3"
    },
    "language_info": {
      "codemirror_mode": {
        "name": "ipython",
        "version": 3
      },
      "file_extension": ".py",
      "mimetype": "text/x-python",
      "name": "python",
      "nbconvert_exporter": "python",
      "pygments_lexer": "ipython3",
      "version": "3.12.3"
    }
  },
  "nbformat": 4,
  "nbformat_minor": 0
}