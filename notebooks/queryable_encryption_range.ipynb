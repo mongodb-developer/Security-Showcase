{
  "cells": [
    {
      "cell_type": "markdown",
      "metadata": {
        "id": "QFdG4eYf3h0L"
      },
      "source": [
        "[![Open In Colab](https://colab.research.google.com/assets/colab-badge.svg)](https://colab.research.google.com/github/mongodb-developer/Security-Showcase/blob/main/notebooks/queryable_encryption_quickstart.ipynb)\n"
      ]
    },
    {
      "cell_type": "markdown",
      "metadata": {
        "id": "IWD-uW5kF4pO"
      },
      "source": [
        "# MongoDB Queryable Encryption with Atlas - Developer Education\n",
        "\n",
        "This notebook is based on the available  [Queryable Encryption quick start](https://www.mongodb.com/docs/manual/core/queryable-encryption/quick-start/).\n",
        "\n",
        "# Installation of prerequisites"
      ]
    },
    {
      "cell_type": "code",
      "execution_count": 11,
      "metadata": {
        "colab": {
          "base_uri": "https://localhost:8080/"
        },
        "id": "VaTITJNyFoqI",
        "outputId": "5a883e86-cf8a-4679-ccd8-bb0402a18313"
      },
      "outputs": [
        {
          "name": "stdout",
          "output_type": "stream",
          "text": [
            "zsh:1: no matches found: pymongo[encryption]\n",
            "Requirement already satisfied: requests in /opt/homebrew/lib/python3.12/site-packages (2.31.0)\n",
            "Requirement already satisfied: charset-normalizer<4,>=2 in /opt/homebrew/lib/python3.12/site-packages (from requests) (3.3.2)\n",
            "Requirement already satisfied: idna<4,>=2.5 in /opt/homebrew/lib/python3.12/site-packages (from requests) (3.7)\n",
            "Requirement already satisfied: urllib3<3,>=1.21.1 in /opt/homebrew/lib/python3.12/site-packages (from requests) (2.2.1)\n",
            "Requirement already satisfied: certifi>=2017.4.17 in /opt/homebrew/lib/python3.12/site-packages (from requests) (2024.2.2)\n"
          ]
        }
      ],
      "source": [
        "!pip install pymongo[encryption]\n",
        "!pip install requests"
      ]
    },
    {
      "cell_type": "markdown",
      "metadata": {
        "id": "y2ZeghQhF16A"
      },
      "source": []
    },
    {
      "cell_type": "code",
      "execution_count": 23,
      "metadata": {
        "id": "Qmddd06TF-0y"
      },
      "outputs": [],
      "source": [
        "\n",
        "import os\n",
        "from pymongo import MongoClient\n",
        "from pymongo.encryption import Algorithm, ClientEncryption, QueryType\n",
        "from pymongo.encryption_options import AutoEncryptionOpts\n",
        "from bson.codec_options import CodecOptions\n",
        "from bson import json_util\n",
        "import json\n",
        "import requests\n",
        "import platform\n",
        "import tempfile"
      ]
    },
    {
      "cell_type": "markdown",
      "metadata": {
        "id": "DEHejcLFF17p"
      },
      "source": [
        "Function to download and set up crypt_shared library"
      ]
    },
    {
      "cell_type": "code",
      "execution_count": 24,
      "metadata": {
        "id": "H-UUWErxGLwa"
      },
      "outputs": [],
      "source": [
        "def setup_crypt_shared():\n",
        "    system = platform.system().lower()\n",
        "    if system == \"linux\":\n",
        "        url = \"https://downloads.mongodb.com/linux/mongo_crypt_shared_v1-linux-x86_64-enterprise-ubuntu2004-6.0.6.tgz\"\n",
        "        filename = \"mongo_crypt_shared_v1-linux-x86_64-enterprise-ubuntu2004-6.0.6.tgz\"\n",
        "    elif system == \"darwin\":\n",
        "        url = \"https://downloads.mongodb.com/osx/mongo_crypt_shared_v1-macos-x86_64-enterprise-6.0.6.tgz\"\n",
        "        filename = \"mongo_crypt_shared_v1-macos-x86_64-enterprise-6.0.6.tgz\"\n",
        "    elif system == \"windows\":\n",
        "        url = \"https://downloads.mongodb.com/windows/mongo_crypt_shared_v1-windows-x86_64-enterprise-6.0.6.zip\"\n",
        "        filename = \"mongo_crypt_shared_v1-windows-x86_64-enterprise-6.0.6.zip\"\n",
        "    else:\n",
        "        raise OSError(\"Unsupported operating system\")\n",
        "\n",
        "    response = requests.get(url)\n",
        "    response.raise_for_status()\n",
        "\n",
        "    with tempfile.NamedTemporaryFile(delete=False, suffix=\".tgz\" if system != \"windows\" else \".zip\") as tmp_file:\n",
        "        tmp_file.write(response.content)\n",
        "        tmp_file_path = tmp_file.name\n",
        "\n",
        "    extract_dir = tempfile.mkdtemp()\n",
        "\n",
        "    if system != \"windows\":\n",
        "        os.system(f\"tar -xzf {tmp_file_path} -C {extract_dir}\")\n",
        "        lib_path = os.path.join(extract_dir, \"lib\", \"mongo_crypt_v1.so\")\n",
        "    else:\n",
        "        os.system(f\"powershell Expand-Archive -Path {tmp_file_path} -DestinationPath {extract_dir}\")\n",
        "        lib_path = os.path.join(extract_dir, \"bin\", \"mongo_crypt_v1.dll\")\n",
        "\n",
        "    return lib_path"
      ]
    },
    {
      "cell_type": "markdown",
      "metadata": {
        "id": "3KrMrvscGtzf"
      },
      "source": [
        "# Set up crypt_shared library"
      ]
    },
    {
      "cell_type": "code",
      "execution_count": 25,
      "metadata": {
        "colab": {
          "base_uri": "https://localhost:8080/"
        },
        "id": "RAPRybh7Gvy7",
        "outputId": "25425171-efd1-4104-fbea-72499289abfe"
      },
      "outputs": [
        {
          "name": "stdout",
          "output_type": "stream",
          "text": [
            "Crypt shared library path: /var/folders/hq/hg3_jc614458jwc75zpq40_h0000gp/T/tmpkv_q594k/lib/mongo_crypt_v1.so\n"
          ]
        }
      ],
      "source": [
        "crypt_shared_lib_path = setup_crypt_shared()\n",
        "print(f\"Crypt shared library path: {crypt_shared_lib_path}\")\n"
      ]
    },
    {
      "cell_type": "markdown",
      "metadata": {
        "id": "1c5d00evG51I"
      },
      "source": [
        " 1. Connect to your Atlas cluster"
      ]
    },
    {
      "cell_type": "code",
      "execution_count": 26,
      "metadata": {
        "colab": {
          "base_uri": "https://localhost:8080/"
        },
        "id": "5sZsGXF6G6f2",
        "outputId": "9d8f5e8c-6d92-419e-8911-d5725aec227a"
      },
      "outputs": [],
      "source": [
        "import getpass\n",
        "MONGODB_ATLAS_URI = \"mongodb://localhost:27017\"\n",
        "\n",
        "key_vault_client = MongoClient(MONGODB_ATLAS_URI, appname=\"deverel.content.python\")"
      ]
    },
    {
      "cell_type": "markdown",
      "metadata": {
        "id": "LVfEBiDuHjmK"
      },
      "source": [
        "2. Set up encryption key and providers"
      ]
    },
    {
      "cell_type": "code",
      "execution_count": 27,
      "metadata": {
        "id": "-fY3ouQAHlTN"
      },
      "outputs": [],
      "source": [
        "local_master_key = os.urandom(96)\n",
        "kms_providers = {\"local\": {\"key\": local_master_key}}\n",
        "key_vault_namespace = \"encryption.__keyVault\"\n"
      ]
    },
    {
      "cell_type": "code",
      "execution_count": 28,
      "metadata": {
        "id": "GdN0aQugZT5y"
      },
      "outputs": [],
      "source": [
        "kms_provider_name=\"local\"\n",
        "key_vault_database_name = \"encryption\"\n",
        "key_vault_collection_name = \"__keyVault\"\n",
        "key_vault_namespace = f\"{key_vault_database_name}.{key_vault_collection_name}\"\n",
        "encrypted_database_name = \"medicalRecords\"\n",
        "encrypted_collection_name = \"patients\""
      ]
    },
    {
      "cell_type": "markdown",
      "metadata": {
        "id": "1fL4CSAyHrWt"
      },
      "source": [
        "3. Create a ClientEncryption object"
      ]
    },
    {
      "cell_type": "code",
      "execution_count": 14,
      "metadata": {},
      "outputs": [
        {
          "name": "stdout",
          "output_type": "stream",
          "text": [
            "Requirement already satisfied: pymongo[encryption] in /opt/homebrew/lib/python3.12/site-packages (4.7.1)\n",
            "Requirement already satisfied: dnspython<3.0.0,>=1.16.0 in /opt/homebrew/lib/python3.12/site-packages (from pymongo[encryption]) (2.6.1)\n",
            "Collecting pymongo-auth-aws<2.0.0,>=1.1.0 (from pymongo[encryption])\n",
            "  Downloading pymongo_auth_aws-1.3.0-py3-none-any.whl.metadata (17 kB)\n",
            "Collecting pymongocrypt<2.0.0,>=1.6.0 (from pymongo[encryption])\n",
            "  Downloading pymongocrypt-1.11.0-py3-none-macosx_11_0_universal2.whl.metadata (23 kB)\n",
            "Requirement already satisfied: certifi in /opt/homebrew/lib/python3.12/site-packages (from pymongo[encryption]) (2024.2.2)\n",
            "Requirement already satisfied: boto3 in /opt/homebrew/lib/python3.12/site-packages (from pymongo-auth-aws<2.0.0,>=1.1.0->pymongo[encryption]) (1.34.69)\n",
            "Requirement already satisfied: botocore in /opt/homebrew/lib/python3.12/site-packages (from pymongo-auth-aws<2.0.0,>=1.1.0->pymongo[encryption]) (1.34.69)\n",
            "Collecting cffi<2,>=1.12.0 (from pymongocrypt<2.0.0,>=1.6.0->pymongo[encryption])\n",
            "  Downloading cffi-1.17.1-cp312-cp312-macosx_11_0_arm64.whl.metadata (1.5 kB)\n",
            "Collecting cryptography>=40 (from pymongocrypt<2.0.0,>=1.6.0->pymongo[encryption])\n",
            "  Downloading cryptography-43.0.1-cp39-abi3-macosx_10_9_universal2.whl.metadata (5.4 kB)\n",
            "Requirement already satisfied: httpx>=0.25.0 in /opt/homebrew/lib/python3.12/site-packages (from pymongocrypt<2.0.0,>=1.6.0->pymongo[encryption]) (0.27.0)\n",
            "Requirement already satisfied: packaging>=21.0 in /opt/homebrew/lib/python3.12/site-packages (from pymongocrypt<2.0.0,>=1.6.0->pymongo[encryption]) (23.2)\n",
            "Collecting pycparser (from cffi<2,>=1.12.0->pymongocrypt<2.0.0,>=1.6.0->pymongo[encryption])\n",
            "  Downloading pycparser-2.22-py3-none-any.whl.metadata (943 bytes)\n",
            "Requirement already satisfied: anyio in /opt/homebrew/lib/python3.12/site-packages (from httpx>=0.25.0->pymongocrypt<2.0.0,>=1.6.0->pymongo[encryption]) (4.3.0)\n",
            "Requirement already satisfied: httpcore==1.* in /opt/homebrew/lib/python3.12/site-packages (from httpx>=0.25.0->pymongocrypt<2.0.0,>=1.6.0->pymongo[encryption]) (1.0.5)\n",
            "Requirement already satisfied: idna in /opt/homebrew/lib/python3.12/site-packages (from httpx>=0.25.0->pymongocrypt<2.0.0,>=1.6.0->pymongo[encryption]) (3.7)\n",
            "Requirement already satisfied: sniffio in /opt/homebrew/lib/python3.12/site-packages (from httpx>=0.25.0->pymongocrypt<2.0.0,>=1.6.0->pymongo[encryption]) (1.3.1)\n",
            "Requirement already satisfied: h11<0.15,>=0.13 in /opt/homebrew/lib/python3.12/site-packages (from httpcore==1.*->httpx>=0.25.0->pymongocrypt<2.0.0,>=1.6.0->pymongo[encryption]) (0.14.0)\n",
            "Requirement already satisfied: jmespath<2.0.0,>=0.7.1 in /opt/homebrew/lib/python3.12/site-packages (from boto3->pymongo-auth-aws<2.0.0,>=1.1.0->pymongo[encryption]) (1.0.1)\n",
            "Requirement already satisfied: s3transfer<0.11.0,>=0.10.0 in /opt/homebrew/lib/python3.12/site-packages (from boto3->pymongo-auth-aws<2.0.0,>=1.1.0->pymongo[encryption]) (0.10.1)\n",
            "Requirement already satisfied: python-dateutil<3.0.0,>=2.1 in /opt/homebrew/lib/python3.12/site-packages (from botocore->pymongo-auth-aws<2.0.0,>=1.1.0->pymongo[encryption]) (2.9.0.post0)\n",
            "Requirement already satisfied: urllib3!=2.2.0,<3,>=1.25.4 in /opt/homebrew/lib/python3.12/site-packages (from botocore->pymongo-auth-aws<2.0.0,>=1.1.0->pymongo[encryption]) (2.2.1)\n",
            "Requirement already satisfied: six>=1.5 in /opt/homebrew/lib/python3.12/site-packages (from python-dateutil<3.0.0,>=2.1->botocore->pymongo-auth-aws<2.0.0,>=1.1.0->pymongo[encryption]) (1.16.0)\n",
            "Downloading pymongo_auth_aws-1.3.0-py3-none-any.whl (15 kB)\n",
            "Downloading pymongocrypt-1.11.0-py3-none-macosx_11_0_universal2.whl (4.7 MB)\n",
            "\u001b[2K   \u001b[90m━━━━━━━━━━━━━━━━━━━━━━━━━━━━━━━━━━━━━━━━\u001b[0m \u001b[32m4.7/4.7 MB\u001b[0m \u001b[31m4.6 MB/s\u001b[0m eta \u001b[36m0:00:00\u001b[0ma \u001b[36m0:00:01\u001b[0m\n",
            "\u001b[?25hDownloading cffi-1.17.1-cp312-cp312-macosx_11_0_arm64.whl (178 kB)\n",
            "Downloading cryptography-43.0.1-cp39-abi3-macosx_10_9_universal2.whl (6.2 MB)\n",
            "\u001b[2K   \u001b[90m━━━━━━━━━━━━━━━━━━━━━━━━━━━━━━━━━━━━━━━━\u001b[0m \u001b[32m6.2/6.2 MB\u001b[0m \u001b[31m17.6 MB/s\u001b[0m eta \u001b[36m0:00:00\u001b[0ma \u001b[36m0:00:01\u001b[0m\n",
            "\u001b[?25hDownloading pycparser-2.22-py3-none-any.whl (117 kB)\n",
            "Installing collected packages: pycparser, cffi, cryptography, pymongocrypt, pymongo-auth-aws\n",
            "Successfully installed cffi-1.17.1 cryptography-43.0.1 pycparser-2.22 pymongo-auth-aws-1.3.0 pymongocrypt-1.11.0\n"
          ]
        }
      ],
      "source": [
        "!python3 -m pip install 'pymongo[encryption]'"
      ]
    },
    {
      "cell_type": "code",
      "execution_count": 29,
      "metadata": {
        "id": "EVsxscyOHsFm"
      },
      "outputs": [
        {
          "ename": "ConfigurationError",
          "evalue": "client side encryption requires the pymongocrypt library: install a compatible version with: python -m pip install 'pymongo[encryption]'",
          "output_type": "error",
          "traceback": [
            "\u001b[0;31m---------------------------------------------------------------------------\u001b[0m",
            "\u001b[0;31mConfigurationError\u001b[0m                        Traceback (most recent call last)",
            "Cell \u001b[0;32mIn[29], line 1\u001b[0m\n\u001b[0;32m----> 1\u001b[0m auto_encryption_options \u001b[38;5;241m=\u001b[39m \u001b[43mAutoEncryptionOpts\u001b[49m\u001b[43m(\u001b[49m\n\u001b[1;32m      2\u001b[0m \u001b[43m    \u001b[49m\u001b[43mkms_providers\u001b[49m\u001b[43m,\u001b[49m\n\u001b[1;32m      3\u001b[0m \u001b[43m    \u001b[49m\u001b[43mkey_vault_namespace\u001b[49m\u001b[43m,\u001b[49m\n\u001b[1;32m      4\u001b[0m \u001b[43m    \u001b[49m\u001b[43mcrypt_shared_lib_path\u001b[49m\u001b[38;5;241;43m=\u001b[39;49m\u001b[43mcrypt_shared_lib_path\u001b[49m\n\u001b[1;32m      5\u001b[0m \u001b[43m)\u001b[49m\n",
            "File \u001b[0;32m/opt/homebrew/lib/python3.12/site-packages/pymongo/encryption_options.py:200\u001b[0m, in \u001b[0;36mAutoEncryptionOpts.__init__\u001b[0;34m(self, kms_providers, key_vault_namespace, key_vault_client, schema_map, bypass_auto_encryption, mongocryptd_uri, mongocryptd_bypass_spawn, mongocryptd_spawn_path, mongocryptd_spawn_args, kms_tls_options, crypt_shared_lib_path, crypt_shared_lib_required, bypass_query_analysis, encrypted_fields_map)\u001b[0m\n\u001b[1;32m     56\u001b[0m \u001b[38;5;250m\u001b[39m\u001b[38;5;124;03m\"\"\"Options to configure automatic client-side field level encryption.\u001b[39;00m\n\u001b[1;32m     57\u001b[0m \n\u001b[1;32m     58\u001b[0m \u001b[38;5;124;03mAutomatic client-side field level encryption requires MongoDB >=4.2\u001b[39;00m\n\u001b[0;32m   (...)\u001b[0m\n\u001b[1;32m    197\u001b[0m \u001b[38;5;124;03m.. versionadded:: 3.9\u001b[39;00m\n\u001b[1;32m    198\u001b[0m \u001b[38;5;124;03m\"\"\"\u001b[39;00m\n\u001b[1;32m    199\u001b[0m \u001b[38;5;28;01mif\u001b[39;00m \u001b[38;5;129;01mnot\u001b[39;00m _HAVE_PYMONGOCRYPT:\n\u001b[0;32m--> 200\u001b[0m     \u001b[38;5;28;01mraise\u001b[39;00m ConfigurationError(\n\u001b[1;32m    201\u001b[0m         \u001b[38;5;124m\"\u001b[39m\u001b[38;5;124mclient side encryption requires the pymongocrypt library: \u001b[39m\u001b[38;5;124m\"\u001b[39m\n\u001b[1;32m    202\u001b[0m         \u001b[38;5;124m\"\u001b[39m\u001b[38;5;124minstall a compatible version with: \u001b[39m\u001b[38;5;124m\"\u001b[39m\n\u001b[1;32m    203\u001b[0m         \u001b[38;5;124m\"\u001b[39m\u001b[38;5;124mpython -m pip install \u001b[39m\u001b[38;5;124m'\u001b[39m\u001b[38;5;124mpymongo[encryption]\u001b[39m\u001b[38;5;124m'\u001b[39m\u001b[38;5;124m\"\u001b[39m\n\u001b[1;32m    204\u001b[0m     )\n\u001b[1;32m    205\u001b[0m \u001b[38;5;28;01mif\u001b[39;00m encrypted_fields_map:\n\u001b[1;32m    206\u001b[0m     validate_is_mapping(\u001b[38;5;124m\"\u001b[39m\u001b[38;5;124mencrypted_fields_map\u001b[39m\u001b[38;5;124m\"\u001b[39m, encrypted_fields_map)\n",
            "\u001b[0;31mConfigurationError\u001b[0m: client side encryption requires the pymongocrypt library: install a compatible version with: python -m pip install 'pymongo[encryption]'"
          ]
        }
      ],
      "source": [
        "auto_encryption_options = AutoEncryptionOpts(\n",
        "    kms_providers,\n",
        "    key_vault_namespace,\n",
        "    crypt_shared_lib_path=crypt_shared_lib_path\n",
        ")"
      ]
    },
    {
      "cell_type": "markdown",
      "metadata": {
        "id": "-FDRnyjCHw2j"
      },
      "source": [
        " 4. Set up the key vault"
      ]
    },
    {
      "cell_type": "code",
      "execution_count": 30,
      "metadata": {
        "id": "LdA-OUbLHv2T"
      },
      "outputs": [
        {
          "ename": "NameError",
          "evalue": "name 'auto_encryption_options' is not defined",
          "output_type": "error",
          "traceback": [
            "\u001b[0;31m---------------------------------------------------------------------------\u001b[0m",
            "\u001b[0;31mNameError\u001b[0m                                 Traceback (most recent call last)",
            "Cell \u001b[0;32mIn[30], line 2\u001b[0m\n\u001b[1;32m      1\u001b[0m encrypted_client \u001b[38;5;241m=\u001b[39m MongoClient(\n\u001b[0;32m----> 2\u001b[0m     MONGODB_ATLAS_URI, auto_encryption_opts\u001b[38;5;241m=\u001b[39m\u001b[43mauto_encryption_options\u001b[49m)\n",
            "\u001b[0;31mNameError\u001b[0m: name 'auto_encryption_options' is not defined"
          ]
        }
      ],
      "source": [
        "encrypted_client = MongoClient(\n",
        "    MONGODB_ATLAS_URI, auto_encryption_opts=auto_encryption_options)\n"
      ]
    },
    {
      "cell_type": "markdown",
      "metadata": {
        "id": "5xJ9bg2SH9AJ"
      },
      "source": [
        "6. Define the encrypted fields map"
      ]
    },
    {
      "cell_type": "code",
      "execution_count": 54,
      "metadata": {
        "id": "3oTfRARHH25R"
      },
      "outputs": [],
      "source": [
        "encrypted_fields_map = {\n",
        "    \"fields\": [\n",
        "        {\n",
        "            \"path\": \"patientRecord.ssn\",\n",
        "            \"bsonType\": \"string\",\n",
        "            \"queries\": [{\"queryType\": \"equality\"}] # potentially 'range'\n",
        "        },\n",
        "        {\n",
        "            \"path\": \"patientRecord.billing\",\n",
        "            \"bsonType\": \"object\",\n",
        "        }\n",
        "    ]\n",
        "}"
      ]
    },
    {
      "cell_type": "markdown",
      "metadata": {
        "id": "gmbCUFo4IAsv"
      },
      "source": [
        "7. Create an encrypted client"
      ]
    },
    {
      "cell_type": "code",
      "execution_count": 52,
      "metadata": {
        "id": "Sy8KZOD7H-W-"
      },
      "outputs": [],
      "source": [
        "client_encryption = ClientEncryption(\n",
        "    kms_providers=kms_providers,\n",
        "    key_vault_namespace=key_vault_namespace,\n",
        "    key_vault_client=encrypted_client,\n",
        "    codec_options=CodecOptions()\n",
        ")\n",
        "\n",
        "\n"
      ]
    },
    {
      "cell_type": "markdown",
      "metadata": {
        "id": "Z_Gw2kw-IM3y"
      },
      "source": [
        " 8. Set up and use the encrypted collection"
      ]
    },
    {
      "cell_type": "code",
      "execution_count": 55,
      "metadata": {
        "colab": {
          "base_uri": "https://localhost:8080/"
        },
        "id": "1P80BuvUWVY2",
        "outputId": "1745e8f3-b01f-4a4c-e8bc-62e079ffb6ed"
      },
      "outputs": [
        {
          "data": {
            "text/plain": [
              "(Collection(Database(MongoClient(host=['serverless1-lb.uvwhr.mongodb.net:27017'], document_class=dict, tz_aware=False, connect=True, authsource='admin', loadbalanced=True, tls=True, auto_encryption_opts=<pymongo.encryption_options.AutoEncryptionOpts object at 0x7f57846ba980>), 'medicalRecords'), 'patients'),\n",
              " {'fields': [{'path': 'patientRecord.ssn',\n",
              "    'bsonType': 'string',\n",
              "    'queries': [{'queryType': 'equality'}],\n",
              "    'keyId': Binary(b'L\\x04.\\x94\\x91\\xaaL\\x10\\x8fb\\xe1\\x91+\\xaeg\\x8b', 4)},\n",
              "   {'path': 'patientRecord.billing',\n",
              "    'bsonType': 'object',\n",
              "    'keyId': Binary(b'YV\\x0cP\\x1f\\xfeF \\x96\".V:\\xec\\x82\\xf5', 4)}]})"
            ]
          },
          "execution_count": 55,
          "metadata": {},
          "output_type": "execute_result"
        }
      ],
      "source": [
        "client_encryption.create_encrypted_collection(\n",
        "    encrypted_client[encrypted_database_name],\n",
        "    encrypted_collection_name,\n",
        "    encrypted_fields_map,\n",
        "    kms_provider_name,\n",
        "    {},\n",
        ")"
      ]
    },
    {
      "cell_type": "markdown",
      "metadata": {
        "id": "YkQWvDzVI1kP"
      },
      "source": [
        "9. Insert an encrypted document"
      ]
    },
    {
      "cell_type": "code",
      "execution_count": 56,
      "metadata": {
        "colab": {
          "base_uri": "https://localhost:8080/"
        },
        "id": "HTVQHCrVI9WB",
        "outputId": "ea8f08a6-18e6-4eed-b852-1fad89ad00fb"
      },
      "outputs": [
        {
          "name": "stdout",
          "output_type": "stream",
          "text": [
            "Inserted document ID: 66aa6a8fc652e5247e1cbc7f\n"
          ]
        }
      ],
      "source": [
        "patient_document = {\n",
        "    \"patientName\": \"Jon Doe\",\n",
        "    \"patientId\": 12345678,\n",
        "    \"patientRecord\": {\n",
        "        \"ssn\": \"987-65-4320\",\n",
        "        \"billing\": {\n",
        "            \"type\": \"Visa\",\n",
        "            \"number\": \"4111111111111111\",\n",
        "        },\n",
        "    },\n",
        "}\n",
        "encrypted_collection = encrypted_client[encrypted_database_name][encrypted_collection_name]\n",
        "result = encrypted_collection.insert_one(patient_document)\n",
        "print(f\"Inserted document ID: {result.inserted_id}\")"
      ]
    },
    {
      "cell_type": "markdown",
      "metadata": {
        "id": "pKqv2_jfJEBQ"
      },
      "source": [
        "10. Query the encrypted collection"
      ]
    },
    {
      "cell_type": "code",
      "execution_count": 57,
      "metadata": {
        "colab": {
          "base_uri": "https://localhost:8080/"
        },
        "id": "YGaDxbCXI3jQ",
        "outputId": "7f1520e3-074c-4c5b-ef78-30b4a77a39c5"
      },
      "outputs": [
        {
          "name": "stdout",
          "output_type": "stream",
          "text": [
            "{'_id': ObjectId('66aa6a8fc652e5247e1cbc7f'), 'patientName': 'Jon Doe', 'patientId': 12345678, 'patientRecord': {'ssn': '987-65-4320', 'billing': {'type': 'Visa', 'number': '4111111111111111'}}, '__safeContent__': [b'\\xd7\\xb5&\\xd7I\\x9eF;g\\xb8\\x9dEmGkbd}\\x8c\\xf7w\\x87\\xb1Y(\\xa3b\\xbf\\x1e\\x9fW\\x01']}\n"
          ]
        }
      ],
      "source": [
        "find_result = encrypted_collection.find_one({\n",
        "    \"patientRecord.ssn\": \"987-65-4320\"\n",
        "})\n",
        "print(find_result)\n"
      ]
    },
    {
      "cell_type": "code",
      "execution_count": 58,
      "metadata": {
        "colab": {
          "base_uri": "https://localhost:8080/"
        },
        "id": "ka1s3bp3JGsc",
        "outputId": "cf998c4c-752f-41f9-ae1f-5b8a73622a11"
      },
      "outputs": [
        {
          "name": "stdout",
          "output_type": "stream",
          "text": [
            "\n",
            "Querying without encryption:\n",
            "None\n",
            "\n",
            "All documents in the collection:\n",
            "{'_id': ObjectId('66aa6a8fc652e5247e1cbc7f'), 'patientName': 'Jon Doe', 'patientId': 12345678, 'patientRecord': {'ssn': Binary(b'\\x0eL\\x04.\\x94\\x91\\xaaL\\x10\\x8fb\\xe1\\x91+\\xaeg\\x8b\\x02k13\\xecIk\\x90\\x81\\x15\\xbf\\x08i\\xa4z\\x10\\xfc\\x11O!\\xc9p\\xce\\x12\\x0c\\xd3\\xa9\\xb1(\\xed\\x90\\xb2\\x91q\\xc2\\xab\\xc6\\xb4\\x827C\\xf0\\xfd\\xc4\\xf9\\x88W<11_\\xa3\\x98\\x18\\x1b\\xba)\\xb6\\x12%)4\\n|\\x1f\\xea\\x00\\x12(\\x8f@\\x1a0\\xd1`\\xfa\\x82/A2\\xdf9\\xe3\\xb3\\x8d$\\t\\xba|\\x9fkDfsf\\xa5\\x08\\xbb\\x1en%\\x11\\xb1\\xd0s\\x87k\\x92+j\\x85\\xd6\\xdf;K\\x88\\x1e\\xf0S>Z_G@\\x7fU+\\xb6\\x93\\x18<#bmJ\\xd6\\xba\\x86F}r\\xacM%\\xee\\xd7\\xb5&\\xd7I\\x9eF;g\\xb8\\x9dEmGkbd}\\x8c\\xf7w\\x87\\xb1Y(\\xa3b\\xbf\\x1e\\x9fW\\x01\\xba\\x9c#G\\x9f\\xcd\\x82\\xf2\\x8d\\x1b`\\xf6\\x06\\x17pi\\x0b\\xc8\\xde\\x90\\xc3}Q\\x19\\xcd\\r<=a\\x15\\x03\\xce', 6), 'billing': Binary(b'\\x10YV\\x0cP\\x1f\\xfeF \\x96\".V:\\xec\\x82\\xf5\\x03<\\x12\\xcdT\\x10\\xad}\\xbb\\x8a\\xd2\\xa1d\\xaf&\\xee\\xcf\\x05\\x91\\xe8w\\xa6\\x1bs\\xa7\\xe1\\xcf\\x83(\\xb0;(\\xe5\\xc5\\x0ec\\xc7y\\xd02\\x88+M\\xbaT\\xd5\\x9b\\xad\\x84\\xed\\x17\\\\\\xe5\\xf41\\xb2\\xca`7B\\xf9\\x14R\\xe1\\x8d\\xb7\\x90\\x8eP\\xd1}\\xc6\\xefI_<\\x11G!\\xb3\\x154\\x82\\xeda\\xe8`\\x06\\x89\\xc2 \\xe5+\\']=\\xfe\\x93{\\xd0\\xb8\\x8b`\\xe0\\x08+\\x1d\\x89/I\\'Y\\x02', 6)}, '__safeContent__': [b'\\xd7\\xb5&\\xd7I\\x9eF;g\\xb8\\x9dEmGkbd}\\x8c\\xf7w\\x87\\xb1Y(\\xa3b\\xbf\\x1e\\x9fW\\x01']}\n"
          ]
        }
      ],
      "source": [
        "print(\"\\nQuerying without encryption:\")\n",
        "\n",
        "reg_mongoclient = MongoClient(MONGODB_ATLAS_URI)\n",
        "\n",
        "find_result = reg_mongoclient[encrypted_database_name][encrypted_collection_name].find_one({\n",
        "    \"patientRecord.ssn\": \"987-65-4320\"\n",
        "})\n",
        "print(find_result)\n",
        "\n",
        "all_docs = reg_mongoclient[encrypted_database_name][encrypted_collection_name].find()\n",
        "print(\"\\nAll documents in the collection:\")\n",
        "for doc in all_docs:\n",
        "    print(doc)"
      ]
    }
  ],
  "metadata": {
    "colab": {
      "provenance": []
    },
    "kernelspec": {
      "display_name": "Python 3",
      "language": "python",
      "name": "python3"
    },
    "language_info": {
      "codemirror_mode": {
        "name": "ipython",
        "version": 3
      },
      "file_extension": ".py",
      "mimetype": "text/x-python",
      "name": "python",
      "nbconvert_exporter": "python",
      "pygments_lexer": "ipython3",
      "version": "3.12.3"
    }
  },
  "nbformat": 4,
  "nbformat_minor": 0
}
